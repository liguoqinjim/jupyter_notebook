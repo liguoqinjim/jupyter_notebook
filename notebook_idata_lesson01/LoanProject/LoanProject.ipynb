{
 "cells": [
  {
   "cell_type": "code",
   "execution_count": 3,
   "metadata": {
    "collapsed": true
   },
   "outputs": [
    {
     "name": "stderr",
     "output_type": "stream",
     "text": [
      "D:\\Coding\\Anaconda3\\envs\\idata\\lib\\site-packages\\IPython\\core\\interactiveshell.py:2728: DtypeWarning: Columns (0,47) have mixed types. Specify dtype option on import or set low_memory=False.\n  interactivity=interactivity, compiler=compiler, result=result)\n"
     ]
    }
   ],
   "source": [
    "import pandas as pd\n",
    "\n",
    "loans_2007 = pd.read_csv(\n",
    "    \"E:\\Workspace\\jupyter_notebook\\\\notebook_idata_lesson01\\LoanProject\\LoanStats3a.csv\", skiprows=1\n",
    ")\n",
    "half_count = len(loans_2007) / 2\n",
    "loans_2007 = loans_2007.dropna(thresh=half_count, axis=1)\n",
    "loans_2007 = loans_2007.drop(['desc', 'url'], axis=1)\n",
    "loans_2007.to_csv('E:\\Workspace\\jupyter_notebook\\\\notebook_idata_lesson01\\LoanProject\\loans_2007.csv', index=False)\n"
   ]
  },
  {
   "cell_type": "code",
   "execution_count": 5,
   "metadata": {},
   "outputs": [
    {
     "name": "stdout",
     "output_type": "stream",
     "text": [
      "id                                1077501\nmember_id                      1.2966e+06\nloan_amnt                            5000\nfunded_amnt                          5000\nfunded_amnt_inv                      4975\nterm                            36 months\nint_rate                           10.65%\ninstallment                        162.87\ngrade                                   B\nsub_grade                              B2\nemp_title                             NaN\nemp_length                      10+ years\nhome_ownership                       RENT\nannual_inc                          24000\nverification_status              Verified\nissue_d                          Dec-2011\nloan_status                    Fully Paid\npymnt_plan                              n\npurpose                       credit_card\ntitle                            Computer\nzip_code                            860xx\naddr_state                             AZ\ndti                                 27.65\ndelinq_2yrs                             0\nearliest_cr_line                 Jan-1985\ninq_last_6mths                          1\nopen_acc                                3\npub_rec                                 0\nrevol_bal                           13648\nrevol_util                          83.7%\ntotal_acc                               9\ninitial_list_status                     f\nout_prncp                               0\nout_prncp_inv                           0\ntotal_pymnt                       5863.16\ntotal_pymnt_inv                   5833.84\ntotal_rec_prncp                      5000\ntotal_rec_int                      863.16\ntotal_rec_late_fee                      0\nrecoveries                              0\ncollection_recovery_fee                 0\nlast_pymnt_d                     Jan-2015\nlast_pymnt_amnt                    171.62\nlast_credit_pull_d               Nov-2016\ncollections_12_mths_ex_med              0\npolicy_code                             1\napplication_type               INDIVIDUAL\nacc_now_delinq                          0\nchargeoff_within_12_mths                0\ndelinq_amnt                             0\npub_rec_bankruptcies                    0\ntax_liens                               0\nName: 0, dtype: object\n52\n"
     ]
    },
    {
     "name": "stderr",
     "output_type": "stream",
     "text": [
      "D:\\Coding\\Anaconda3\\envs\\idata\\lib\\site-packages\\IPython\\core\\interactiveshell.py:2728: DtypeWarning: Columns (0) have mixed types. Specify dtype option on import or set low_memory=False.\n  interactivity=interactivity, compiler=compiler, result=result)\n"
     ]
    }
   ],
   "source": [
    "loans_2007 = pd.read_csv(\n",
    "    \"E:\\Workspace\\jupyter_notebook\\\\notebook_idata_lesson01\\LoanProject\\loans_2007.csv\"\n",
    ")\n",
    "print(loans_2007.iloc[0])\n",
    "print(loans_2007.shape[1])\n"
   ]
  },
  {
   "cell_type": "code",
   "execution_count": 6,
   "metadata": {},
   "outputs": [],
   "source": [
    "# 删除一些列\n",
    "loans_2007 = loans_2007.drop(\n",
    "    [\"id\", \"member_id\", \"funded_amnt\", \"funded_amnt_inv\", \"grade\", \"sub_grade\", \"emp_title\", \"issue_d\"], axis=1)\n"
   ]
  },
  {
   "cell_type": "code",
   "execution_count": 7,
   "metadata": {},
   "outputs": [],
   "source": [
    "# 删除一些列\n",
    "loans_2007 = loans_2007.drop(\n",
    "    [\"zip_code\", \"out_prncp\", \"out_prncp_inv\", \"total_pymnt\", \"total_pymnt_inv\", \"total_rec_prncp\"], axis=1)\n"
   ]
  },
  {
   "cell_type": "code",
   "execution_count": 8,
   "metadata": {},
   "outputs": [
    {
     "name": "stdout",
     "output_type": "stream",
     "text": [
      "loan_amnt                            5000\nterm                            36 months\nint_rate                           10.65%\ninstallment                        162.87\nemp_length                      10+ years\nhome_ownership                       RENT\nannual_inc                          24000\nverification_status              Verified\nloan_status                    Fully Paid\npymnt_plan                              n\npurpose                       credit_card\ntitle                            Computer\naddr_state                             AZ\ndti                                 27.65\ndelinq_2yrs                             0\nearliest_cr_line                 Jan-1985\ninq_last_6mths                          1\nopen_acc                                3\npub_rec                                 0\nrevol_bal                           13648\nrevol_util                          83.7%\ntotal_acc                               9\ninitial_list_status                     f\nlast_credit_pull_d               Nov-2016\ncollections_12_mths_ex_med              0\npolicy_code                             1\napplication_type               INDIVIDUAL\nacc_now_delinq                          0\nchargeoff_within_12_mths                0\ndelinq_amnt                             0\npub_rec_bankruptcies                    0\ntax_liens                               0\nName: 0, dtype: object\n32\n"
     ]
    }
   ],
   "source": [
    "loans_2007 = loans_2007.drop(\n",
    "    [\"total_rec_int\", \"total_rec_late_fee\", \"recoveries\", \"collection_recovery_fee\", \"last_pymnt_d\", \"last_pymnt_amnt\"],\n",
    "    axis=1)\n",
    "print(loans_2007.iloc[0])\n",
    "print(loans_2007.shape[1])\n"
   ]
  },
  {
   "cell_type": "code",
   "execution_count": 10,
   "metadata": {},
   "outputs": [
    {
     "name": "stdout",
     "output_type": "stream",
     "text": [
      "Fully Paid                                             33902\nCharged Off                                             5658\nDoes not meet the credit policy. Status:Fully Paid      1988\nDoes not meet the credit policy. Status:Charged Off      761\nCurrent                                                  201\nLate (31-120 days)                                        10\nIn Grace Period                                            9\nLate (16-30 days)                                          5\nDefault                                                    1\nName: loan_status, dtype: int64\n"
     ]
    }
   ],
   "source": [
    "# value_counts()\n",
    "# 查看一列里面有多少种值\n",
    "print(loans_2007[\"loan_status\"].value_counts())\n"
   ]
  },
  {
   "cell_type": "code",
   "execution_count": 11,
   "metadata": {},
   "outputs": [],
   "source": [
    "# 过滤loan_status列，只留下Fully Paid和Charged Off的列\n",
    "loans_2007 = loans_2007[(loans_2007['loan_status'] == \"Fully Paid\") | (loans_2007['loan_status'] == \"Charged Off\")]\n",
    "\n",
    "# 使用replace，把文本内容替换为数值\n",
    "status_replace = {\n",
    "    \"loan_status\": {\n",
    "        \"Fully Paid\": 1,\n",
    "        \"Charged Off\": 0,\n",
    "    }\n",
    "}\n",
    "\n",
    "loans_2007 = loans_2007.replace(status_replace)\n"
   ]
  },
  {
   "cell_type": "code",
   "execution_count": 12,
   "metadata": {},
   "outputs": [
    {
     "name": "stdout",
     "output_type": "stream",
     "text": [
      "['initial_list_status', 'collections_12_mths_ex_med', 'policy_code', 'application_type', 'acc_now_delinq', 'chargeoff_within_12_mths', 'delinq_amnt', 'tax_liens']\n"
     ]
    }
   ],
   "source": [
    "# 删除一列里面都是同一个值的列\n",
    "orig_columns = loans_2007.columns\n",
    "drop_columns = []\n",
    "for col in orig_columns:\n",
    "    col_series = loans_2007[col].dropna().unique()\n",
    "    if len(col_series) == 1:\n",
    "        drop_columns.append(col)\n",
    "loans_2007 = loans_2007.drop(drop_columns, axis=1)\n",
    "print(drop_columns)\n",
    "print\n",
    "loans_2007.shape\n",
    "loans_2007.to_csv('E:\\Workspace\\jupyter_notebook\\\\notebook_idata_lesson01\\LoanProject\\\\filtered_loans_2007.csv',\n",
    "                  index=False)\n"
   ]
  },
  {
   "cell_type": "code",
   "execution_count": 13,
   "metadata": {},
   "outputs": [
    {
     "name": "stdout",
     "output_type": "stream",
     "text": [
      "loan_amnt                  0\nterm                       0\nint_rate                   0\ninstallment                0\nemp_length              1073\nhome_ownership             0\nannual_inc                 0\nverification_status        0\nloan_status                0\npymnt_plan                 0\npurpose                    0\ntitle                     11\naddr_state                 0\ndti                        0\ndelinq_2yrs                0\nearliest_cr_line           0\ninq_last_6mths             0\nopen_acc                   0\npub_rec                    0\nrevol_bal                  0\nrevol_util                50\ntotal_acc                  0\nlast_credit_pull_d         2\npub_rec_bankruptcies     697\ndtype: int64\n"
     ]
    }
   ],
   "source": [
    "import pandas as pd\n",
    "\n",
    "loans = pd.read_csv('E:\\Workspace\\jupyter_notebook\\\\notebook_idata_lesson01\\LoanProject\\\\filtered_loans_2007.csv')\n",
    "null_counts = loans.isnull().sum()\n",
    "print(null_counts)\n"
   ]
  },
  {
   "cell_type": "code",
   "execution_count": 14,
   "metadata": {},
   "outputs": [
    {
     "name": "stdout",
     "output_type": "stream",
     "text": [
      "object     12\nfloat64    10\nint64       1\ndtype: int64\n"
     ]
    }
   ],
   "source": [
    "# 删除列\n",
    "loans = loans.drop(\"pub_rec_bankruptcies\", axis=1)\n",
    "loans = loans.dropna(axis=0)\n",
    "print(loans.dtypes.value_counts())\n"
   ]
  },
  {
   "cell_type": "code",
   "execution_count": 15,
   "metadata": {},
   "outputs": [
    {
     "name": "stdout",
     "output_type": "stream",
     "text": [
      "term                     36 months\nint_rate                    10.65%\nemp_length               10+ years\nhome_ownership                RENT\nverification_status       Verified\npymnt_plan                       n\npurpose                credit_card\ntitle                     Computer\naddr_state                      AZ\nearliest_cr_line          Jan-1985\nrevol_util                   83.7%\nlast_credit_pull_d        Nov-2016\nName: 0, dtype: object\n"
     ]
    }
   ],
   "source": [
    "# 选出dtype是object的列\n",
    "object_columns_df = loans.select_dtypes(include=[\"object\"])\n",
    "print(object_columns_df.iloc[0])\n"
   ]
  },
  {
   "cell_type": "code",
   "execution_count": 16,
   "metadata": {},
   "outputs": [
    {
     "name": "stdout",
     "output_type": "stream",
     "text": [
      "RENT        18371\nMORTGAGE    17131\nOWN          2827\nOTHER          96\nNONE            3\nName: home_ownership, dtype: int64\nNot Verified       16436\nVerified           12251\nSource Verified     9741\nName: verification_status, dtype: int64\n10+ years    8821\n< 1 year     4563\n2 years      4371\n3 years      4074\n4 years      3409\n5 years      3270\n1 year       3227\n6 years      2212\n7 years      1756\n8 years      1472\n9 years      1253\nName: emp_length, dtype: int64\n 36 months    28234\n 60 months    10194\nName: term, dtype: int64\nCA    6882\nNY    3684\nFL    2766\nTX    2659\nNJ    1814\nIL    1480\nPA    1470\nVA    1371\nGA    1352\nMA    1306\nOH    1177\nMD    1030\nAZ     828\nWA     800\nCO     764\nNC     754\nCT     728\nMI     688\nMO     658\nMN     589\nNV     477\nSC     462\nWI     439\nOR     431\nAL     429\nLA     425\nKY     321\nOK     292\nKS     258\nUT     251\nAR     233\nDC     211\nRI     196\nNM     182\nHI     168\nWV     167\nNH     162\nDE     110\nWY      79\nMT      78\nAK      77\nSD      62\nVT      54\nMS      19\nTN      17\nIN       9\nID       6\nNE       5\nIA       5\nME       3\nName: addr_state, dtype: int64\n"
     ]
    }
   ],
   "source": [
    "cols = ['home_ownership', 'verification_status', 'emp_length', 'term', 'addr_state']\n",
    "for c in cols:\n",
    "    print(loans[c].value_counts())\n"
   ]
  },
  {
   "cell_type": "code",
   "execution_count": 17,
   "metadata": {},
   "outputs": [
    {
     "name": "stdout",
     "output_type": "stream",
     "text": [
      "debt_consolidation    18137\ncredit_card            4970\nother                  3803\nhome_improvement       2869\nmajor_purchase         2108\nsmall_business         1771\ncar                    1492\nwedding                 932\nmedical                 667\nmoving                  557\nhouse                   365\nvacation                350\neducational             312\nrenewable_energy         95\nName: purpose, dtype: int64\nDebt Consolidation                                    2128\nDebt Consolidation Loan                               1671\nPersonal Loan                                          640\nConsolidation                                          503\ndebt consolidation                                     483\nCredit Card Consolidation                              348\nHome Improvement                                       344\nDebt consolidation                                     323\nSmall Business Loan                                    310\nCredit Card Loan                                       302\nPersonal                                               296\nConsolidation Loan                                     254\nHome Improvement Loan                                  237\npersonal loan                                          224\nWedding Loan                                           207\npersonal                                               207\nLoan                                                   206\nconsolidation                                          193\nCar Loan                                               193\nOther Loan                                             177\nWedding                                                151\nCredit Card Payoff                                     149\nCredit Card Refinance                                  140\nMajor Purchase Loan                                    136\nConsolidate                                            126\nMedical                                                114\nCredit Card                                            112\nhome improvement                                       105\nCredit Cards                                            93\nMy Loan                                                 92\n                                                      ... \nEnergy Saver                                             1\nBig Purchase Loan                                        1\nCredit cards refinance                                   1\nDecember 2010                                            1\nChopper                                                  1\nPayoff Bk of Amer CC                                     1\nKaplan School Loan                                       1\nFlorida June 2011                                        1\nSydney Consolidate                                       1\nEbay purchase                                            1\nMessiah                                                  1\nMedicalExpense                                           1\nDebt Consolidation / NY Trip                             1\nA Loan to Get Back Under Control after an Illness        1\nmsg                                                      1\nPaying off high interest loans                           1\nConsolidation2                                           1\nBILL PAYING                                              1\nGetting my life back                                     1\nDebt Consoldidation                                      1\nGET OUT OF DEBT!                                         1\nNever See Snow Again                                     1\nBe Blessed                                               1\nWasting Too Much On Interest                             1\nDebt Consolidation Jan 2011                              1\nRefince Debt Consolidation                               1\nMe                                                       1\nScholarship Fund                                         1\nIvf2011                                                  1\nNot Interested in Paying Interest to Banks Anymore       1\nName: title, Length: 19094, dtype: int64\n"
     ]
    }
   ],
   "source": [
    "print(loans[\"purpose\"].value_counts())\n",
    "print(loans[\"title\"].value_counts())\n"
   ]
  },
  {
   "cell_type": "code",
   "execution_count": 18,
   "metadata": {},
   "outputs": [],
   "source": [
    "# 使用replace\n",
    "mapping_dict = {\n",
    "    \"emp_length\": {\n",
    "        \"10+ years\": 10,\n",
    "        \"9 years\": 9,\n",
    "        \"8 years\": 8,\n",
    "        \"7 years\": 7,\n",
    "        \"6 years\": 6,\n",
    "        \"5 years\": 5,\n",
    "        \"4 years\": 4,\n",
    "        \"3 years\": 3,\n",
    "        \"2 years\": 2,\n",
    "        \"1 year\": 1,\n",
    "        \"< 1 year\": 0,\n",
    "        \"n/a\": 0\n",
    "    }\n",
    "}\n",
    "loans = loans.drop([\"last_credit_pull_d\", \"earliest_cr_line\", \"addr_state\", \"title\"], axis=1)\n",
    "loans[\"int_rate\"] = loans[\"int_rate\"].str.rstrip(\"%\").astype(\"float\")\n",
    "loans[\"revol_util\"] = loans[\"revol_util\"].str.rstrip(\"%\").astype(\"float\")\n",
    "loans = loans.replace(mapping_dict)\n"
   ]
  },
  {
   "cell_type": "code",
   "execution_count": 19,
   "metadata": {},
   "outputs": [],
   "source": [
    "cat_columns = [\"home_ownership\", \"verification_status\", \"emp_length\", \"purpose\", \"term\"]\n",
    "dummy_df = pd.get_dummies(loans[cat_columns])\n",
    "loans = pd.concat([loans, dummy_df], axis=1)\n",
    "loans = loans.drop(cat_columns, axis=1)\n",
    "loans = loans.drop(\"pymnt_plan\", axis=1)\n"
   ]
  },
  {
   "cell_type": "code",
   "execution_count": 20,
   "metadata": {},
   "outputs": [],
   "source": [
    "loans.to_csv('E:\\Workspace\\jupyter_notebook\\\\notebook_idata_lesson01\\LoanProject\\\\cleaned_loans2007.csv', index=False)\n"
   ]
  },
  {
   "cell_type": "code",
   "execution_count": 21,
   "metadata": {},
   "outputs": [
    {
     "name": "stdout",
     "output_type": "stream",
     "text": [
      "<class 'pandas.core.frame.DataFrame'>\nRangeIndex: 38428 entries, 0 to 38427\nData columns (total 37 columns):\nloan_amnt                              38428 non-null float64\nint_rate                               38428 non-null float64\ninstallment                            38428 non-null float64\nannual_inc                             38428 non-null float64\nloan_status                            38428 non-null int64\ndti                                    38428 non-null float64\ndelinq_2yrs                            38428 non-null float64\ninq_last_6mths                         38428 non-null float64\nopen_acc                               38428 non-null float64\npub_rec                                38428 non-null float64\nrevol_bal                              38428 non-null float64\nrevol_util                             38428 non-null float64\ntotal_acc                              38428 non-null float64\nhome_ownership_MORTGAGE                38428 non-null int64\nhome_ownership_NONE                    38428 non-null int64\nhome_ownership_OTHER                   38428 non-null int64\nhome_ownership_OWN                     38428 non-null int64\nhome_ownership_RENT                    38428 non-null int64\nverification_status_Not Verified       38428 non-null int64\nverification_status_Source Verified    38428 non-null int64\nverification_status_Verified           38428 non-null int64\npurpose_car                            38428 non-null int64\npurpose_credit_card                    38428 non-null int64\npurpose_debt_consolidation             38428 non-null int64\npurpose_educational                    38428 non-null int64\npurpose_home_improvement               38428 non-null int64\npurpose_house                          38428 non-null int64\npurpose_major_purchase                 38428 non-null int64\npurpose_medical                        38428 non-null int64\npurpose_moving                         38428 non-null int64\npurpose_other                          38428 non-null int64\npurpose_renewable_energy               38428 non-null int64\npurpose_small_business                 38428 non-null int64\npurpose_vacation                       38428 non-null int64\npurpose_wedding                        38428 non-null int64\nterm_ 36 months                        38428 non-null int64\nterm_ 60 months                        38428 non-null int64\ndtypes: float64(12), int64(25)\nmemory usage: 10.8 MB\nNone\n"
     ]
    }
   ],
   "source": [
    "import pandas as pd\n",
    "\n",
    "loans = pd.read_csv(\"E:\\Workspace\\jupyter_notebook\\\\notebook_idata_lesson01\\LoanProject\\\\cleaned_loans2007.csv\")\n",
    "print(loans.info())\n"
   ]
  },
  {
   "cell_type": "code",
   "execution_count": 23,
   "metadata": {},
   "outputs": [],
   "source": [
    "from sklearn.linear_model import LogisticRegression\n",
    "\n",
    "lr = LogisticRegression()\n",
    "cols = loans.columns\n",
    "train_cols = cols.drop(\"loan_status\")\n",
    "features = loans[train_cols]\n",
    "target = loans[\"loan_status\"]\n",
    "lr.fit(features, target)\n",
    "predictions = lr.predict(features)\n"
   ]
  },
  {
   "cell_type": "code",
   "execution_count": 27,
   "metadata": {},
   "outputs": [
    {
     "name": "stdout",
     "output_type": "stream",
     "text": [
      "0.9991519520247145\n0.997967104047311\n0     1\n1     1\n2     1\n3     1\n4     1\n5     1\n6     1\n7     1\n8     1\n9     1\n10    1\n11    1\n12    1\n13    1\n14    1\n15    1\n16    1\n17    1\n18    1\n19    1\ndtype: int64\n"
     ]
    }
   ],
   "source": [
    "from sklearn.linear_model import LogisticRegression\n",
    "from sklearn.cross_validation import cross_val_predict, KFold\n",
    "\n",
    "lr = LogisticRegression()\n",
    "kf = KFold(features.shape[0], random_state=1)\n",
    "predictions = cross_val_predict(lr, features, target, cv=kf)\n",
    "predictions = pd.Series(predictions)\n",
    "\n",
    "# False positives.\n",
    "fp_filter = (predictions == 1) & (loans[\"loan_status\"] == 0)\n",
    "fp = len(predictions[fp_filter])\n",
    "\n",
    "# True positives.\n",
    "tp_filter = (predictions == 1) & (loans[\"loan_status\"] == 1)\n",
    "tp = len(predictions[tp_filter])\n",
    "\n",
    "# False negatives.\n",
    "fn_filter = (predictions == 0) & (loans[\"loan_status\"] == 1)\n",
    "fn = len(predictions[fn_filter])\n",
    "\n",
    "# True negatives\n",
    "tn_filter = (predictions == 0) & (loans[\"loan_status\"] == 0)\n",
    "tn = len(predictions[tn_filter])\n",
    "\n",
    "# Rates\n",
    "tpr = tp / float((tp + fn))\n",
    "fpr = fp / float((fp + tn))\n",
    "\n",
    "print(tpr)\n",
    "print(fpr)\n",
    "print(predictions[:20])\n"
   ]
  },
  {
   "cell_type": "code",
   "execution_count": 28,
   "metadata": {},
   "outputs": [
    {
     "name": "stdout",
     "output_type": "stream",
     "text": [
      "0.6669594451343247\n0.39308815376085754\n"
     ]
    },
    {
     "data": {
      "text/plain": [
       "0     1\n1     0\n2     0\n3     1\n4     1\n5     0\n6     0\n7     0\n8     0\n9     0\n10    1\n11    0\n12    1\n13    1\n14    0\n15    0\n16    1\n17    1\n18    1\n19    0\ndtype: int64"
      ]
     },
     "execution_count": 28,
     "metadata": {},
     "output_type": "execute_result"
    }
   ],
   "source": [
    "# tp和fp差不多一样，这可能是样本不均衡的问题\n",
    "# 也就是1的样本数据多，0的样本数据少，\n",
    "# 这时候可以使用加权\n",
    "from sklearn.linear_model import LogisticRegression\n",
    "from sklearn.cross_validation import cross_val_predict\n",
    "\n",
    "# 平均加权\n",
    "lr = LogisticRegression(class_weight=\"balanced\")\n",
    "kf = KFold(features.shape[0], random_state=1)\n",
    "predictions = cross_val_predict(lr, features, target, cv=kf)\n",
    "predictions = pd.Series(predictions)\n",
    "\n",
    "# False positives.\n",
    "fp_filter = (predictions == 1) & (loans[\"loan_status\"] == 0)\n",
    "fp = len(predictions[fp_filter])\n",
    "\n",
    "# True positives.\n",
    "tp_filter = (predictions == 1) & (loans[\"loan_status\"] == 1)\n",
    "tp = len(predictions[tp_filter])\n",
    "\n",
    "# False negatives.\n",
    "fn_filter = (predictions == 0) & (loans[\"loan_status\"] == 1)\n",
    "fn = len(predictions[fn_filter])\n",
    "\n",
    "# True negatives\n",
    "tn_filter = (predictions == 0) & (loans[\"loan_status\"] == 0)\n",
    "tn = len(predictions[tn_filter])\n",
    "\n",
    "# Rates\n",
    "tpr = tp / float((tp + fn))\n",
    "fpr = fp / float((fp + tn))\n",
    "\n",
    "print(tpr)\n",
    "print(fpr)\n",
    "predictions[:20]\n",
    "\n",
    "# 可以看到加权之后有效果\n"
   ]
  },
  {
   "cell_type": "code",
   "execution_count": 29,
   "metadata": {},
   "outputs": [
    {
     "name": "stdout",
     "output_type": "stream",
     "text": [
      "0.7084532210679347\n0.463130659767141\n"
     ]
    }
   ],
   "source": [
    "from sklearn.linear_model import LogisticRegression\n",
    "from sklearn.cross_validation import cross_val_predict\n",
    "\n",
    "# 指定加权多少\n",
    "penalty = {\n",
    "    0: 5,\n",
    "    1: 1\n",
    "}\n",
    "\n",
    "lr = LogisticRegression(class_weight=penalty)\n",
    "kf = KFold(features.shape[0], random_state=1)\n",
    "predictions = cross_val_predict(lr, features, target, cv=kf)\n",
    "predictions = pd.Series(predictions)\n",
    "\n",
    "# False positives.\n",
    "fp_filter = (predictions == 1) & (loans[\"loan_status\"] == 0)\n",
    "fp = len(predictions[fp_filter])\n",
    "\n",
    "# True positives.\n",
    "tp_filter = (predictions == 1) & (loans[\"loan_status\"] == 1)\n",
    "tp = len(predictions[tp_filter])\n",
    "\n",
    "# False negatives.\n",
    "fn_filter = (predictions == 0) & (loans[\"loan_status\"] == 1)\n",
    "fn = len(predictions[fn_filter])\n",
    "\n",
    "# True negatives\n",
    "tn_filter = (predictions == 0) & (loans[\"loan_status\"] == 0)\n",
    "tn = len(predictions[tn_filter])\n",
    "\n",
    "# Rates\n",
    "tpr = tp / float((tp + fn))\n",
    "fpr = fp / float((fp + tn))\n",
    "\n",
    "print(tpr)\n",
    "print(fpr)\n",
    "\n",
    "# 可以看到有效果\n"
   ]
  },
  {
   "cell_type": "code",
   "execution_count": 30,
   "metadata": {},
   "outputs": [
    {
     "name": "stdout",
     "output_type": "stream",
     "text": [
      "0.9744071236029924\n0.9414156348179634\n"
     ]
    }
   ],
   "source": [
    "from sklearn.ensemble import RandomForestClassifier\n",
    "from sklearn.cross_validation import cross_val_predict\n",
    "\n",
    "# 使用随机森林\n",
    "rf = RandomForestClassifier(n_estimators=10, class_weight=\"balanced\", random_state=1)\n",
    "#print help(RandomForestClassifier)\n",
    "kf = KFold(features.shape[0], random_state=1)\n",
    "predictions = cross_val_predict(rf, features, target, cv=kf)\n",
    "predictions = pd.Series(predictions)\n",
    "\n",
    "# False positives.\n",
    "fp_filter = (predictions == 1) & (loans[\"loan_status\"] == 0)\n",
    "fp = len(predictions[fp_filter])\n",
    "\n",
    "# True positives.\n",
    "tp_filter = (predictions == 1) & (loans[\"loan_status\"] == 1)\n",
    "tp = len(predictions[tp_filter])\n",
    "\n",
    "# False negatives.\n",
    "fn_filter = (predictions == 0) & (loans[\"loan_status\"] == 1)\n",
    "fn = len(predictions[fn_filter])\n",
    "\n",
    "# True negatives\n",
    "tn_filter = (predictions == 0) & (loans[\"loan_status\"] == 0)\n",
    "tn = len(predictions[tn_filter])\n",
    "\n",
    "# Rates\n",
    "tpr = tp / float((tp + fn))\n",
    "fpr = fp / float((fp + tn))\n",
    "print(tpr)\n",
    "print(fpr)\n",
    "\n",
    "# 可以看到还是样本不均衡的问题\n"
   ]
  },
  {
   "cell_type": "code",
   "execution_count": null,
   "metadata": {},
   "outputs": [],
   "source": []
  }
 ],
 "metadata": {
  "kernelspec": {
   "display_name": "Python 2",
   "language": "python",
   "name": "python2"
  },
  "language_info": {
   "codemirror_mode": {
    "name": "ipython",
    "version": 2
   },
   "file_extension": ".py",
   "mimetype": "text/x-python",
   "name": "python",
   "nbconvert_exporter": "python",
   "pygments_lexer": "ipython2",
   "version": "2.7.6"
  }
 },
 "nbformat": 4,
 "nbformat_minor": 0
}
