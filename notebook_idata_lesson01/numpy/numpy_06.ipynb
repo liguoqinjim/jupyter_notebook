{
 "cells": [
  {
   "cell_type": "code",
   "execution_count": 1,
   "metadata": {
    "collapsed": true
   },
   "outputs": [],
   "source": [
    "import numpy"
   ]
  },
  {
   "cell_type": "code",
   "execution_count": 6,
   "metadata": {},
   "outputs": [
    {
     "name": "stdout",
     "output_type": "stream",
     "text": [
      "[ 0  1  2  3  4  5  6  7  8  9 10 11]\nTrue\n(3, 4)\n1378130794656\n1378130794656\n"
     ]
    }
   ],
   "source": [
    "# 第一种复制\n",
    "a = numpy.arange(12)\n",
    "print(a)\n",
    "b = a\n",
    "print(b is a)\n",
    "b.shape = (3, 4)\n",
    "# 对b的修改，同时也修改了a，也就是a和b是指向同一内存的\n",
    "print(a.shape)\n",
    "# a和c的id一样\n",
    "print(id(a))\n",
    "print(id(b))\n"
   ]
  },
  {
   "cell_type": "code",
   "execution_count": 13,
   "metadata": {},
   "outputs": [
    {
     "name": "stdout",
     "output_type": "stream",
     "text": [
      "(12,)\n[   0    1    2 9999    4    5    6    7    8    9   10   11]\n1378130796096\n1378130795296\n"
     ]
    }
   ],
   "source": [
    "# 第二种复制\n",
    "a = numpy.arange(12)\n",
    "c = a.view()\n",
    "c.shape = (3, 4)\n",
    "# 对c的shape的修改，没有体现在a上\n",
    "print(a.shape)\n",
    "c[0, 3] = 9999\n",
    "# 对c的值的修改，体现在了a上。说明a和c虽然指向不同内存，但是里面的数据是共用的\n",
    "print(a)\n",
    "# a和c的id不一样\n",
    "print(id(a))\n",
    "print(id(c))\n"
   ]
  },
  {
   "cell_type": "code",
   "execution_count": 17,
   "metadata": {},
   "outputs": [
    {
     "name": "stdout",
     "output_type": "stream",
     "text": [
      "False\n[ 0  1  2  3  4  5  6  7  8  9 10 11]\n1378130895696\n1378130896016\n"
     ]
    }
   ],
   "source": [
    "# 第三种复制\n",
    "a = numpy.arange(12)\n",
    "d = a.copy()\n",
    "print(d is a)\n",
    "# 对d的值的操作，没有影响a\n",
    "d[0] = 9999\n",
    "print(a)\n",
    "# a和d的id不一样\n",
    "print(id(a))\n",
    "print(id(d))\n"
   ]
  },
  {
   "cell_type": "code",
   "execution_count": 26,
   "metadata": {},
   "outputs": [
    {
     "name": "stdout",
     "output_type": "stream",
     "text": [
      "[[  7.  13.  46.  32.]\n [ 61.  29.  82.  60.]\n [ 69.  69.  54.  36.]]\n[2 2 1 1]\n4\n[ 69.  69.  82.  60.]\n"
     ]
    }
   ],
   "source": [
    "data = numpy.floor(100 * numpy.random.random((3, 4)))\n",
    "print(data)\n",
    "# 找出最大值的index，axis的时候，按列查找\n",
    "ind = data.argmax(axis=0)\n",
    "print(ind)\n",
    "# 根据ind找出最大值\n",
    "data_max = data[ind, numpy.arange(data.shape[1])]\n",
    "print(data_max)\n"
   ]
  },
  {
   "cell_type": "code",
   "execution_count": 31,
   "metadata": {},
   "outputs": [
    {
     "name": "stdout",
     "output_type": "stream",
     "text": [
      "[ 0 10 20 30]\n[[ 0 10 20 30  0 10 20 30  0 10 20 30]\n [ 0 10 20 30  0 10 20 30  0 10 20 30]]\n(2, 12)\n"
     ]
    }
   ],
   "source": [
    "a = numpy.arange(0, 40, 10)\n",
    "print(a)\n",
    "# tile填充，用a的数据，填充(2,3)\n",
    "b = numpy.tile(a, (2, 3))\n",
    "print(b)\n",
    "print(b.shape)\n"
   ]
  },
  {
   "cell_type": "code",
   "execution_count": 41,
   "metadata": {},
   "outputs": [
    {
     "name": "stdout",
     "output_type": "stream",
     "text": [
      "[[4 3 5]\n [1 2 1]]\n[[3 4 5]\n [1 1 2]]\n[[3 4 5]\n [1 1 2]]\n[2 3 1 0]\n[1 2 3 4]\n"
     ]
    }
   ],
   "source": [
    "a = numpy.array([[4, 3, 5], [1, 2, 1]])\n",
    "print(a)\n",
    "# 排序\n",
    "b = numpy.sort(a, axis=1)\n",
    "print(b)\n",
    "# 排序\n",
    "a.sort(axis=1)\n",
    "print(a)\n",
    "# 排序\n",
    "a = numpy.array([4, 3, 1, 2])\n",
    "# 排序完的index\n",
    "j = numpy.argsort(a)\n",
    "print(j)\n",
    "# 排序完的a\n",
    "print(a[j])\n"
   ]
  },
  {
   "cell_type": "code",
   "execution_count": null,
   "metadata": {},
   "outputs": [],
   "source": []
  }
 ],
 "metadata": {
  "kernelspec": {
   "display_name": "Python 2",
   "language": "python",
   "name": "python2"
  },
  "language_info": {
   "codemirror_mode": {
    "name": "ipython",
    "version": 2
   },
   "file_extension": ".py",
   "mimetype": "text/x-python",
   "name": "python",
   "nbconvert_exporter": "python",
   "pygments_lexer": "ipython2",
   "version": "2.7.6"
  }
 },
 "nbformat": 4,
 "nbformat_minor": 0
}
