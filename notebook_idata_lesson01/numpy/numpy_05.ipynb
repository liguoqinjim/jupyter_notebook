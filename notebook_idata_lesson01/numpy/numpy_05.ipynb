{
 "cells": [
  {
   "cell_type": "code",
   "execution_count": 1,
   "metadata": {
    "collapsed": true
   },
   "outputs": [],
   "source": [
    "import numpy"
   ]
  },
  {
   "cell_type": "code",
   "execution_count": 7,
   "metadata": {},
   "outputs": [
    {
     "name": "stdout",
     "output_type": "stream",
     "text": [
      "[0 1 2]\n[ 1.          2.71828183  7.3890561 ]\n[ 0.          1.          1.41421356]\n"
     ]
    }
   ],
   "source": [
    "a = numpy.arange(3)\n",
    "print(a)\n",
    "\n",
    "# 求返回e的幂次方\n",
    "print(numpy.exp(a))\n",
    "# 开根号\n",
    "print(numpy.sqrt(a))\n"
   ]
  },
  {
   "cell_type": "code",
   "execution_count": 21,
   "metadata": {},
   "outputs": [
    {
     "name": "stdout",
     "output_type": "stream",
     "text": [
      "[[ 9.  3.  2.  2.]\n [ 2.  9.  4.  8.]\n [ 9.  5.  2.  8.]]\n(3, 4)\n[ 9.  3.  2.  2.  2.  9.  4.  8.  9.  5.  2.  8.]\n(12,)\n[[ 9.  3.]\n [ 2.  2.]\n [ 2.  9.]\n [ 4.  8.]\n [ 9.  5.]\n [ 2.  8.]]\n[[ 9.  3.  2.  2.]\n [ 2.  9.  4.  8.]\n [ 9.  5.  2.  8.]]\n[[ 9.  3.  2.]\n [ 2.  2.  9.]\n [ 4.  8.  9.]\n [ 5.  2.  8.]]\n"
     ]
    }
   ],
   "source": [
    "a = numpy.floor(10 * numpy.random.random((3, 4)))\n",
    "print(a)\n",
    "print(a.shape)\n",
    "\n",
    "# 把a从矩阵变换到向量\n",
    "a = a.ravel()\n",
    "print(a)\n",
    "print(a.shape)\n",
    "\n",
    "# 变换shape到6,2\n",
    "a.shape = (6, 2)\n",
    "print(a)\n",
    "\n",
    "# 变换shape到3,4，用resize\n",
    "a.resize((3, 4))\n",
    "print(a)\n",
    "\n",
    "# 变换shape的时候，可以把最后一个参数写成-1，这样numpy会根据前面的几个参数，自动计算\n",
    "print(a.reshape(4, -1))\n"
   ]
  },
  {
   "cell_type": "code",
   "execution_count": 28,
   "metadata": {},
   "outputs": [
    {
     "name": "stdout",
     "output_type": "stream",
     "text": [
      "[[ 5.  2.]\n [ 9.  2.]]\n[[ 5.  3.]\n [ 5.  3.]]\n[[ 5.  2.  5.  3.]\n [ 9.  2.  5.  3.]]\n[[ 5.  2.]\n [ 9.  2.]\n [ 5.  3.]\n [ 5.  3.]]\n"
     ]
    }
   ],
   "source": [
    "# 矩阵的合并\n",
    "a = numpy.floor(10 * numpy.random.random((2, 2)))\n",
    "b = numpy.floor(10 * numpy.random.random((2, 2)))\n",
    "print(a)\n",
    "print(b)\n",
    "\n",
    "# 行不动，加列\n",
    "print(numpy.hstack((a, b)))\n",
    "\n",
    "# 列不动，加行\n",
    "print(numpy.vstack((a, b)))\n"
   ]
  },
  {
   "cell_type": "code",
   "execution_count": 37,
   "metadata": {
    "collapsed": false
   },
   "outputs": [
    {
     "name": "stdout",
     "output_type": "stream",
     "text": [
      "[[ 0.  0.  1.  0.  6.  1.  4.  5.  6.  3.  0.  0.]\n [ 0.  9.  7.  6.  0.  9.  5.  4.  4.  3.  1.  8.]]\n[array([[ 0.,  0.,  1.,  0.],\n       [ 0.,  9.,  7.,  6.]]), array([[ 6.,  1.,  4.,  5.],\n       [ 0.,  9.,  5.,  4.]]), array([[ 6.,  3.,  0.,  0.],\n       [ 4.,  3.,  1.,  8.]])]\n[array([[ 0.,  0.,  1.],\n       [ 0.,  9.,  7.]]), array([[ 0.],\n       [ 6.]]), array([[ 6.,  1.,  4.,  5.,  6.,  3.,  0.,  0.],\n       [ 0.,  9.,  5.,  4.,  4.,  3.,  1.,  8.]])]\n[[ 9.  4.]\n [ 2.  7.]\n [ 1.  7.]\n [ 1.  7.]\n [ 0.  4.]\n [ 8.  8.]\n [ 1.  6.]\n [ 4.  7.]\n [ 8.  4.]\n [ 5.  4.]\n [ 9.  5.]\n [ 6.  2.]]\n[array([[ 9.,  4.],\n       [ 2.,  7.],\n       [ 1.,  7.],\n       [ 1.,  7.]]), array([[ 0.,  4.],\n       [ 8.,  8.],\n       [ 1.,  6.],\n       [ 4.,  7.]]), array([[ 8.,  4.],\n       [ 5.,  4.],\n       [ 9.,  5.],\n       [ 6.,  2.]])]\n"
     ]
    }
   ],
   "source": [
    "a = numpy.floor(10 * numpy.random.random((2, 12)))\n",
    "print(a)\n",
    "\n",
    "# 按列分割，竖着切，3等分\n",
    "print(numpy.hsplit(a, 3))\n",
    "# 按列分割，竖着切，指定切割的地方(在index3和index4的地方分割)\n",
    "print(numpy.hsplit(a, (3, 4)))\n",
    "\n",
    "a = numpy.floor(10 * numpy.random.random((12, 2)))\n",
    "print(a)\n",
    "# 按行分割，横着切\n",
    "print(numpy.vsplit(a, 3))\n"
   ]
  },
  {
   "cell_type": "code",
   "execution_count": null,
   "metadata": {},
   "outputs": [],
   "source": []
  }
 ],
 "metadata": {
  "kernelspec": {
   "display_name": "Python 2",
   "language": "python",
   "name": "python2"
  },
  "language_info": {
   "codemirror_mode": {
    "name": "ipython",
    "version": 2
   },
   "file_extension": ".py",
   "mimetype": "text/x-python",
   "name": "python",
   "nbconvert_exporter": "python",
   "pygments_lexer": "ipython2",
   "version": "2.7.6"
  }
 },
 "nbformat": 4,
 "nbformat_minor": 0
}
