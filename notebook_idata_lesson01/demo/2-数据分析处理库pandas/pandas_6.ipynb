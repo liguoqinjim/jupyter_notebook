{
 "cells": [
  {
   "cell_type": "code",
   "execution_count": 2,
   "metadata": {
    "collapsed": true
   },
   "outputs": [
    {
     "name": "stdout",
     "output_type": "stream",
     "text": [
      "0    Avengers: Age of Ultron (2015)\n1                 Cinderella (2015)\n2                    Ant-Man (2015)\nName: FILM, dtype: object\n(146,)\n0    74\n1    85\n2    80\nName: RottenTomatoes, dtype: int64\n"
     ]
    }
   ],
   "source": [
    "# series\n",
    "import pandas\n",
    "from pandas import Series\n",
    "\n",
    "fandango = pandas.read_csv(\n",
    "    \"E:\\Workspace\\jupyter_notebook\\\\notebook_idata_lesson01\\pandas\\\\fandango_score_comparison.csv\")\n",
    "series_film = fandango[\"FILM\"]\n",
    "print(series_film.head(3))\n",
    "print(series_film.shape)\n",
    "series_rt = fandango[\"RottenTomatoes\"]\n",
    "print(series_rt[:3])"
   ]
  },
  {
   "cell_type": "code",
   "execution_count": 3,
   "metadata": {
    "collapsed": false
   },
   "outputs": [
    {
     "name": "stdout",
     "output_type": "stream",
     "text": [
      "<class 'numpy.ndarray'>\n['Avengers: Age of Ultron (2015)' 'Cinderella (2015)' 'Ant-Man (2015)']\nAvengers: Age of Ultron (2015)    74\nCinderella (2015)                 85\nAnt-Man (2015)                    80\ndtype: int64\n"
     ]
    },
    {
     "data": {
      "text/plain": [
       "Avengers: Age of Ultron (2015)    74\nCinderella (2015)                 85\ndtype: int64"
      ]
     },
     "execution_count": 3,
     "metadata": {},
     "output_type": "execute_result"
    }
   ],
   "source": [
    "film_names = series_film.values\n",
    "# film_names的格式是ndarray\n",
    "print(type(film_names))\n",
    "print(film_names[:3])\n",
    "rt_scores = series_rt.values\n",
    "# 创建一个Series，value是rt_scores,index是film_names，两个都是ndarray\n",
    "# 也就是index是object(string)了\n",
    "series_custom = Series(rt_scores, index=film_names)\n",
    "print(series_custom[:3])\n",
    "# 用string作为index来选择列\n",
    "series_custom[[\"Avengers: Age of Ultron (2015)\", \"Cinderella (2015)\"]]\n"
   ]
  },
  {
   "cell_type": "code",
   "execution_count": 4,
   "metadata": {
    "collapsed": false
   },
   "outputs": [
    {
     "data": {
      "text/plain": [
       "Do You Believe? (2015)           18\nHot Tub Time Machine 2 (2015)    14\nThe Water Diviner (2015)         63\ndtype: int64"
      ]
     },
     "execution_count": 4,
     "metadata": {},
     "output_type": "execute_result"
    }
   ],
   "source": [
    "# series_custom也可以使用数字下标来访问\n",
    "series_custom[3:6]"
   ]
  },
  {
   "cell_type": "code",
   "execution_count": 5,
   "metadata": {
    "collapsed": false
   },
   "outputs": [
    {
     "name": "stdout",
     "output_type": "stream",
     "text": [
      "Avengers: Age of Ultron (2015)    740\nCinderella (2015)                 850\nAnt-Man (2015)                    800\ndtype: int64\n"
     ]
    }
   ],
   "source": [
    "\n",
    "# 对Series进行计算\n",
    "series_custom *= 10\n",
    "print(series_custom[:3])"
   ]
  },
  {
   "cell_type": "code",
   "execution_count": 6,
   "metadata": {
    "collapsed": true
   },
   "outputs": [
    {
     "name": "stdout",
     "output_type": "stream",
     "text": [
      "Index(['Avengers: Age of Ultron (2015)', 'Cinderella (2015)', 'Ant-Man (2015)',\n       'Do You Believe? (2015)', 'Hot Tub Time Machine 2 (2015)',\n       'The Water Diviner (2015)', 'Irrational Man (2015)', 'Top Five (2014)',\n       'Shaun the Sheep Movie (2015)', 'Love & Mercy (2015)',\n       ...\n       'The Woman In Black 2 Angel of Death (2015)', 'Danny Collins (2015)',\n       'Spare Parts (2015)', 'Serena (2015)', 'Inside Out (2015)',\n       'Mr. Holmes (2015)', ''71 (2015)', 'Two Days, One Night (2014)',\n       'Gett: The Trial of Viviane Amsalem (2015)',\n       'Kumiko, The Treasure Hunter (2015)'],\n      dtype='object', name='FILM', length=146)\n"
     ]
    }
   ],
   "source": [
    "fandango = pandas.read_csv(\n",
    "    \"E:\\Workspace\\jupyter_notebook\\\\notebook_idata_lesson01\\pandas\\\\fandango_score_comparison.csv\")\n",
    "# 重新指定dataFrame的index\n",
    "fandango_films = fandango.set_index(\"FILM\", drop=False)\n",
    "print(fandango_films.index)"
   ]
  },
  {
   "cell_type": "code",
   "execution_count": 7,
   "metadata": {},
   "outputs": [
    {
     "name": "stdout",
     "output_type": "stream",
     "text": [
      "FILM                          Kumiko, The Treasure Hunter (2015)\nRottenTomatoes                                                87\nRottenTomatoes_User                                           63\nMetacritic                                                    68\nMetacritic_User                                              6.4\nIMDB                                                         6.7\nFandango_Stars                                               3.5\nFandango_Ratingvalue                                         3.5\nRT_norm                                                     4.35\nRT_user_norm                                                3.15\nMetacritic_norm                                              3.4\nMetacritic_user_nom                                          3.2\nIMDB_norm                                                   3.35\nRT_norm_round                                                4.5\nRT_user_norm_round                                             3\nMetacritic_norm_round                                        3.5\nMetacritic_user_norm_round                                     3\nIMDB_norm_round                                              3.5\nMetacritic_user_vote_count                                    19\nIMDB_user_vote_count                                        5289\nFandango_votes                                                41\nFandango_Difference                                            0\nName: Kumiko, The Treasure Hunter (2015), dtype: object\n"
     ]
    }
   ],
   "source": [
    "# 使用string作为index来访问数据，按照字典序的顺序排序\n",
    "# print(fandango_films[\"Avengers: Age of Ultron (2015)\":\"Hot Tub Time Machine 2 (2015)\"])\n",
    "\n",
    "# loc访问数据\n",
    "print(fandango_films.loc['Kumiko, The Treasure Hunter (2015)'])"
   ]
  },
  {
   "cell_type": "code",
   "execution_count": null,
   "metadata": {},
   "outputs": [],
   "source": []
  }
 ],
 "metadata": {
  "kernelspec": {
   "display_name": "Python 2",
   "language": "python",
   "name": "python2"
  },
  "language_info": {
   "codemirror_mode": {
    "name": "ipython",
    "version": 2
   },
   "file_extension": ".py",
   "mimetype": "text/x-python",
   "name": "python",
   "nbconvert_exporter": "python",
   "pygments_lexer": "ipython2",
   "version": "2.7.11"
  }
 },
 "nbformat": 4,
 "nbformat_minor": 1
}
