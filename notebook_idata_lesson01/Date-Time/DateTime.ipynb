{
 "cells": [
  {
   "cell_type": "code",
   "execution_count": 4,
   "metadata": {
    "collapsed": true
   },
   "outputs": [
    {
     "data": {
      "text/plain": [
       "DatetimeIndex(['2018-03-14', '2018-03-17', '2018-03-20', '2018-03-23',\n               '2018-03-26', '2018-03-29', '2018-04-01', '2018-04-04',\n               '2018-04-07', '2018-04-10'],\n              dtype='datetime64[ns]', freq='3D')"
      ]
     },
     "execution_count": 4,
     "metadata": {},
     "output_type": "execute_result"
    }
   ],
   "source": [
    "import pandas as pd\n",
    "import numpy as np\n",
    "\n",
    "# freq可以指定，D,M,2D,3M\n",
    "# 3D表示，间隔为3天\n",
    "rng = pd.date_range(\"2018-03-14\", periods=10, freq=\"3D\")\n",
    "rng\n"
   ]
  },
  {
   "cell_type": "code",
   "execution_count": 10,
   "metadata": {},
   "outputs": [
    {
     "data": {
      "text/plain": [
       "2018-03-14    0.162776\n2018-03-15   -0.599980\n2018-03-16   -0.673808\n2018-03-17   -0.353186\n2018-03-18    1.884914\n2018-03-19    1.109894\n2018-03-20   -0.393126\n2018-03-21    0.135835\n2018-03-22   -0.558292\n2018-03-23   -0.719116\nFreq: D, dtype: float64"
      ]
     },
     "execution_count": 10,
     "metadata": {},
     "output_type": "execute_result"
    }
   ],
   "source": [
    "# datetime作为index\n",
    "time = pd.Series(np.random.randn(10),\n",
    "                 index=pd.date_range(pd.datetime(2018, 3, 14), periods=10))\n",
    "time\n"
   ]
  },
  {
   "cell_type": "code",
   "execution_count": 12,
   "metadata": {},
   "outputs": [
    {
     "data": {
      "text/plain": [
       "2018-03-20   -0.393126\n2018-03-21    0.135835\n2018-03-22   -0.558292\n2018-03-23   -0.719116\nFreq: D, dtype: float64"
      ]
     },
     "execution_count": 12,
     "metadata": {},
     "output_type": "execute_result"
    }
   ],
   "source": [
    "# truncate过滤\n",
    "# 过滤掉20180320之前的时间的\n",
    "time.truncate(before=\"2018-3-20\")\n"
   ]
  },
  {
   "cell_type": "code",
   "execution_count": 13,
   "metadata": {},
   "outputs": [
    {
     "data": {
      "text/plain": [
       "2018-03-14    0.162776\n2018-03-15   -0.599980\n2018-03-16   -0.673808\n2018-03-17   -0.353186\n2018-03-18    1.884914\n2018-03-19    1.109894\n2018-03-20   -0.393126\nFreq: D, dtype: float64"
      ]
     },
     "execution_count": 13,
     "metadata": {},
     "output_type": "execute_result"
    }
   ],
   "source": [
    "# truncate过滤\n",
    "# 过滤掉20180320之后的时间\n",
    "time.truncate(after=\"2018-03-20\")\n"
   ]
  },
  {
   "cell_type": "code",
   "execution_count": 14,
   "metadata": {},
   "outputs": [
    {
     "name": "stdout",
     "output_type": "stream",
     "text": [
      "0.16277590406104978\n"
     ]
    }
   ],
   "source": [
    "# 取值\n",
    "print(time[\"2018-03-14\"])\n"
   ]
  },
  {
   "cell_type": "code",
   "execution_count": 15,
   "metadata": {},
   "outputs": [
    {
     "name": "stdout",
     "output_type": "stream",
     "text": [
      "2018-03-15   -0.599980\n2018-03-16   -0.673808\n2018-03-17   -0.353186\n2018-03-18    1.884914\nFreq: D, dtype: float64\n"
     ]
    }
   ],
   "source": [
    "# 区间取值，两边都包含\n",
    "print(time[\"2018-03-15\":\"2018-03-18\"])\n"
   ]
  },
  {
   "cell_type": "code",
   "execution_count": 19,
   "metadata": {},
   "outputs": [
    {
     "name": "stdout",
     "output_type": "stream",
     "text": [
      "2016-07-10 00:00:00\n2016-07-10 10:00:00\n2016-07-10 10:15:00\n"
     ]
    }
   ],
   "source": [
    "# 时间戳\n",
    "print(pd.Timestamp(\"2016-07-10\"))\n",
    "print(pd.Timestamp(\"2016-07-10 10\"))\n",
    "print(pd.Timestamp(\"2016-07-10 10:15\"))\n"
   ]
  },
  {
   "cell_type": "code",
   "execution_count": 23,
   "metadata": {},
   "outputs": [
    {
     "data": {
      "text/plain": [
       "Period('2017-09', 'M')"
      ]
     },
     "execution_count": 23,
     "metadata": {},
     "output_type": "execute_result"
    }
   ],
   "source": [
    "# 时间区间\n",
    "pd.Period(\"2017-09\")\n"
   ]
  },
  {
   "cell_type": "code",
   "execution_count": 25,
   "metadata": {},
   "outputs": [
    {
     "data": {
      "text/plain": [
       "Period('2017-09-15', 'D')"
      ]
     },
     "execution_count": 25,
     "metadata": {},
     "output_type": "execute_result"
    }
   ],
   "source": [
    "pd.Period(\"2017-09-15\")\n"
   ]
  },
  {
   "cell_type": "code",
   "execution_count": 26,
   "metadata": {},
   "outputs": [
    {
     "data": {
      "text/plain": [
       "Timedelta('1 days 00:00:00')"
      ]
     },
     "execution_count": 26,
     "metadata": {},
     "output_type": "execute_result"
    }
   ],
   "source": [
    "# time offset\n",
    "pd.Timedelta(\"1 day\")\n"
   ]
  },
  {
   "cell_type": "code",
   "execution_count": 27,
   "metadata": {},
   "outputs": [
    {
     "data": {
      "text/plain": [
       "Period('2016-01-02 10:10', 'T')"
      ]
     },
     "execution_count": 27,
     "metadata": {},
     "output_type": "execute_result"
    }
   ],
   "source": [
    "# period加time offset\n",
    "pd.Period('2016-01-01 10:10') + pd.Timedelta('1 day')\n"
   ]
  },
  {
   "cell_type": "code",
   "execution_count": 28,
   "metadata": {},
   "outputs": [
    {
     "data": {
      "text/plain": [
       "Timestamp('2016-01-02 10:10:00')"
      ]
     },
     "execution_count": 28,
     "metadata": {},
     "output_type": "execute_result"
    }
   ],
   "source": [
    "# timestamp加time offset\n",
    "pd.Timestamp('2016-01-01 10:10') + pd.Timedelta('1 day')\n"
   ]
  },
  {
   "cell_type": "code",
   "execution_count": 32,
   "metadata": {},
   "outputs": [
    {
     "data": {
      "text/plain": [
       "PeriodIndex(['2016-01-01 10:00', '2016-01-02 11:00', '2016-01-03 12:00',\n             '2016-01-04 13:00', '2016-01-05 14:00', '2016-01-06 15:00',\n             '2016-01-07 16:00', '2016-01-08 17:00', '2016-01-09 18:00',\n             '2016-01-10 19:00'],\n            dtype='period[25H]', freq='25H')"
      ]
     },
     "execution_count": 32,
     "metadata": {},
     "output_type": "execute_result"
    }
   ],
   "source": [
    "# period_range\n",
    "p1 = pd.period_range('2016-01-01 10:10', freq='25H', periods=10)\n",
    "p1\n"
   ]
  },
  {
   "cell_type": "code",
   "execution_count": null,
   "metadata": {},
   "outputs": [],
   "source": []
  }
 ],
 "metadata": {
  "kernelspec": {
   "display_name": "Python 2",
   "language": "python",
   "name": "python2"
  },
  "language_info": {
   "codemirror_mode": {
    "name": "ipython",
    "version": 2
   },
   "file_extension": ".py",
   "mimetype": "text/x-python",
   "name": "python",
   "nbconvert_exporter": "python",
   "pygments_lexer": "ipython2",
   "version": "2.7.6"
  }
 },
 "nbformat": 4,
 "nbformat_minor": 0
}
