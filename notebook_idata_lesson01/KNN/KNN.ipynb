{
 "cells": [
  {
   "cell_type": "code",
   "execution_count": 1,
   "metadata": {
    "collapsed": false
   },
   "outputs": [
    {
     "name": "stdout",
     "output_type": "stream",
     "text": [
      "(3723, 8)\n"
     ]
    },
    {
     "data": {
      "text/html": [
       "<div>\n",
       "<style scoped>\n",
       "    .dataframe tbody tr th:only-of-type {\n",
       "        vertical-align: middle;\n",
       "    }\n",
       "\n",
       "    .dataframe tbody tr th {\n",
       "        vertical-align: top;\n",
       "    }\n",
       "\n",
       "    .dataframe thead th {\n",
       "        text-align: right;\n",
       "    }\n",
       "</style>\n",
       "<table border=\"1\" class=\"dataframe\">\n",
       "  <thead>\n",
       "    <tr style=\"text-align: right;\">\n",
       "      <th></th>\n",
       "      <th>accommodates</th>\n",
       "      <th>bedrooms</th>\n",
       "      <th>bathrooms</th>\n",
       "      <th>beds</th>\n",
       "      <th>price</th>\n",
       "      <th>minimum_nights</th>\n",
       "      <th>maximum_nights</th>\n",
       "      <th>number_of_reviews</th>\n",
       "    </tr>\n",
       "  </thead>\n",
       "  <tbody>\n",
       "    <tr>\n",
       "      <th>0</th>\n",
       "      <td>4</td>\n",
       "      <td>1.0</td>\n",
       "      <td>1.0</td>\n",
       "      <td>2.0</td>\n",
       "      <td>$160.00</td>\n",
       "      <td>1</td>\n",
       "      <td>1125</td>\n",
       "      <td>0</td>\n",
       "    </tr>\n",
       "    <tr>\n",
       "      <th>1</th>\n",
       "      <td>6</td>\n",
       "      <td>3.0</td>\n",
       "      <td>3.0</td>\n",
       "      <td>3.0</td>\n",
       "      <td>$350.00</td>\n",
       "      <td>2</td>\n",
       "      <td>30</td>\n",
       "      <td>65</td>\n",
       "    </tr>\n",
       "    <tr>\n",
       "      <th>2</th>\n",
       "      <td>1</td>\n",
       "      <td>1.0</td>\n",
       "      <td>2.0</td>\n",
       "      <td>1.0</td>\n",
       "      <td>$50.00</td>\n",
       "      <td>2</td>\n",
       "      <td>1125</td>\n",
       "      <td>1</td>\n",
       "    </tr>\n",
       "    <tr>\n",
       "      <th>3</th>\n",
       "      <td>2</td>\n",
       "      <td>1.0</td>\n",
       "      <td>1.0</td>\n",
       "      <td>1.0</td>\n",
       "      <td>$95.00</td>\n",
       "      <td>1</td>\n",
       "      <td>1125</td>\n",
       "      <td>0</td>\n",
       "    </tr>\n",
       "    <tr>\n",
       "      <th>4</th>\n",
       "      <td>4</td>\n",
       "      <td>1.0</td>\n",
       "      <td>1.0</td>\n",
       "      <td>1.0</td>\n",
       "      <td>$50.00</td>\n",
       "      <td>7</td>\n",
       "      <td>1125</td>\n",
       "      <td>0</td>\n",
       "    </tr>\n",
       "  </tbody>\n",
       "</table>\n",
       "</div>"
      ],
      "text/plain": [
       "<div>\n",
       "<style scoped>\n",
       "    .dataframe tbody tr th:only-of-type {\n",
       "        vertical-align: middle;\n",
       "    }\n",
       "\n",
       "    .dataframe tbody tr th {\n",
       "        vertical-align: top;\n",
       "    }\n",
       "\n",
       "    .dataframe thead th {\n",
       "        text-align: right;\n",
       "    }\n",
       "</style>\n",
       "<table border=\"1\" class=\"dataframe\">\n",
       "  <thead>\n",
       "    <tr style=\"text-align: right;\">\n",
       "      <th></th>\n",
       "      <th>accommodates</th>\n",
       "      <th>bedrooms</th>\n",
       "      <th>bathrooms</th>\n",
       "      <th>beds</th>\n",
       "      <th>price</th>\n",
       "      <th>minimum_nights</th>\n",
       "      <th>maximum_nights</th>\n",
       "      <th>number_of_reviews</th>\n",
       "    </tr>\n",
       "  </thead>\n",
       "  <tbody>\n",
       "    <tr>\n",
       "      <th>0</th>\n",
       "      <td>4</td>\n",
       "      <td>1.0</td>\n",
       "      <td>1.0</td>\n",
       "      <td>2.0</td>\n",
       "      <td>$160.00</td>\n",
       "      <td>1</td>\n",
       "      <td>1125</td>\n",
       "      <td>0</td>\n",
       "    </tr>\n",
       "    <tr>\n",
       "      <th>1</th>\n",
       "      <td>6</td>\n",
       "      <td>3.0</td>\n",
       "      <td>3.0</td>\n",
       "      <td>3.0</td>\n",
       "      <td>$350.00</td>\n",
       "      <td>2</td>\n",
       "      <td>30</td>\n",
       "      <td>65</td>\n",
       "    </tr>\n",
       "    <tr>\n",
       "      <th>2</th>\n",
       "      <td>1</td>\n",
       "      <td>1.0</td>\n",
       "      <td>2.0</td>\n",
       "      <td>1.0</td>\n",
       "      <td>$50.00</td>\n",
       "      <td>2</td>\n",
       "      <td>1125</td>\n",
       "      <td>1</td>\n",
       "    </tr>\n",
       "    <tr>\n",
       "      <th>3</th>\n",
       "      <td>2</td>\n",
       "      <td>1.0</td>\n",
       "      <td>1.0</td>\n",
       "      <td>1.0</td>\n",
       "      <td>$95.00</td>\n",
       "      <td>1</td>\n",
       "      <td>1125</td>\n",
       "      <td>0</td>\n",
       "    </tr>\n",
       "    <tr>\n",
       "      <th>4</th>\n",
       "      <td>4</td>\n",
       "      <td>1.0</td>\n",
       "      <td>1.0</td>\n",
       "      <td>1.0</td>\n",
       "      <td>$50.00</td>\n",
       "      <td>7</td>\n",
       "      <td>1125</td>\n",
       "      <td>0</td>\n",
       "    </tr>\n",
       "  </tbody>\n",
       "</table>\n",
       "</div>"
      ]
     },
     "execution_count": 1,
     "metadata": {},
     "output_type": "execute_result"
    }
   ],
   "source": [
    "import pandas\n",
    "import numpy\n",
    "\n",
    "features = ['accommodates', 'bedrooms', 'bathrooms', 'beds', 'price', 'minimum_nights', 'maximum_nights',\n",
    "            'number_of_reviews']\n",
    "dc_listings = pandas.read_csv(\"E:\\\\Workspace\\\\jupyter_notebook\\\\notebook_idata_lesson01\\\\KNN\\\\listings.csv\")\n",
    "dc_listings = dc_listings[features]\n",
    "print(dc_listings.shape)\n",
    "\n",
    "dc_listings[:5]\n"
   ]
  },
  {
   "cell_type": "code",
   "execution_count": 9,
   "metadata": {},
   "outputs": [
    {
     "data": {
      "text/plain": [
       "0      461\n1     2294\n2      503\n3      279\n4       35\n5       73\n6       17\n7       22\n8        7\n9       12\n10       2\n11       4\n12       6\n13       8\nName: distance, dtype: int64"
      ]
     },
     "execution_count": 9,
     "metadata": {},
     "output_type": "execute_result"
    }
   ],
   "source": [
    "# 假设我们的房子有3个房间\n",
    "our_acc_value = 3\n",
    "dc_listings[\"distance\"] = numpy.abs(dc_listings.accommodates - our_acc_value)\n",
    "# 查看一共有多少种距离\n",
    "dc_listings.distance.value_counts().sort_index()\n"
   ]
  },
  {
   "cell_type": "code",
   "execution_count": 10,
   "metadata": {},
   "outputs": [
    {
     "data": {
      "text/plain": [
       "740     $165.00\n453     $207.00\n602     $130.00\n2348    $138.00\n3119    $125.00\nName: price, dtype: object"
      ]
     },
     "execution_count": 10,
     "metadata": {},
     "output_type": "execute_result"
    }
   ],
   "source": [
    "# 打乱顺序\n",
    "dc_listings = dc_listings.sample(frac=1, random_state=0)\n",
    "dc_listings = dc_listings.sort_values(\"distance\")\n",
    "dc_listings.price.head()"
   ]
  },
  {
   "cell_type": "code",
   "execution_count": 20,
   "metadata": {},
   "outputs": [
    {
     "name": "stdout",
     "output_type": "stream",
     "text": [
      "153.0\n"
     ]
    }
   ],
   "source": [
    "# 转换price里面的数据格式，去掉$符转换成数值型\n",
    "dc_listings[\"price\"] = dc_listings[\"price\"].replace(\"\\$|,\", \"\").astype(float)\n",
    "\n",
    "# 计算前5个的平均值\n",
    "mean_price = dc_listings[\"price\"].iloc[:5].mean()\n",
    "print(mean_price)\n"
   ]
  },
  {
   "cell_type": "code",
   "execution_count": 21,
   "metadata": {},
   "outputs": [],
   "source": [
    "# 制定训练集和测试集\n",
    "dc_listings.drop(\"distance\", axis=1)\n",
    "\n",
    "# 75%是训练集，25%是测试集\n",
    "train_df = dc_listings.copy().iloc[:2792]\n",
    "test_df = dc_listings.copy().iloc[2792:]\n"
   ]
  },
  {
   "cell_type": "code",
   "execution_count": 31,
   "metadata": {
    "collapsed": false
   },
   "outputs": [],
   "source": [
    "# 基于单变量预测价格\n",
    "def predict_price(new_listing_value, feature_column):\n",
    "    temp_df = train_df\n",
    "    temp_df[\"distance\"] = numpy.abs(dc_listings[feature_column] - new_listing_value)\n",
    "    temp_df = temp_df.sort_values(\"distance\")\n",
    "    knn_5 = temp_df.price.iloc[:5]\n",
    "    predicated_price = knn_5.mean()\n",
    "    return predicated_price\n",
    "\n",
    "\n",
    "# 调用predict_price预测\n",
    "test_df[\"predicted_price\"] = test_df.accommodates.apply(predict_price, feature_column=\"accommodates\")\n"
   ]
  },
  {
   "cell_type": "code",
   "execution_count": 32,
   "metadata": {},
   "outputs": [
    {
     "name": "stdout",
     "output_type": "stream",
     "text": [
      "229.03265260947379\n"
     ]
    }
   ],
   "source": [
    "# 计算RMSE\n",
    "test_df[\"squared_error\"] = (test_df[\"predicted_price\"] - test_df[\"price\"]) ** 2\n",
    "mse = test_df[\"squared_error\"].mean()\n",
    "rmse = mse ** (1 / 2)\n",
    "print(rmse)\n"
   ]
  },
  {
   "cell_type": "code",
   "execution_count": 34,
   "metadata": {},
   "outputs": [
    {
     "name": "stdout",
     "output_type": "stream",
     "text": [
      "RMSE for the accommodates column: 229.03265260947379\n"
     ]
    },
    {
     "name": "stdout",
     "output_type": "stream",
     "text": [
      "RMSE for the bedrooms column: 214.33995002869366\n"
     ]
    },
    {
     "name": "stdout",
     "output_type": "stream",
     "text": [
      "RMSE for the bathrooms column: 235.21466649435237\n"
     ]
    },
    {
     "name": "stdout",
     "output_type": "stream",
     "text": [
      "RMSE for the number_of_reviews column: 249.9682819836384\n"
     ]
    }
   ],
   "source": [
    "# 不同变量各自计算RMSE\n",
    "for feature in [\"accommodates\", \"bedrooms\", \"bathrooms\", \"number_of_reviews\"]:\n",
    "    test_df[\"predicted_price\"] = test_df[feature].apply(predict_price, feature_column=feature)\n",
    "    test_df[\"squared_error\"] = (test_df[\"predicted_price\"] - test_df[\"price\"]) ** 2\n",
    "    mse = test_df[\"squared_error\"].mean()\n",
    "    rmse = mse ** (1 / 2)\n",
    "    print(\"RMSE for the {} column: {}\".format(feature, rmse))\n"
   ]
  },
  {
   "cell_type": "code",
   "execution_count": 4,
   "metadata": {},
   "outputs": [
    {
     "data": {
      "text/html": [
       "<div>\n",
       "<style scoped>\n",
       "    .dataframe tbody tr th:only-of-type {\n",
       "        vertical-align: middle;\n",
       "    }\n",
       "\n",
       "    .dataframe tbody tr th {\n",
       "        vertical-align: top;\n",
       "    }\n",
       "\n",
       "    .dataframe thead th {\n",
       "        text-align: right;\n",
       "    }\n",
       "</style>\n",
       "<table border=\"1\" class=\"dataframe\">\n",
       "  <thead>\n",
       "    <tr style=\"text-align: right;\">\n",
       "      <th></th>\n",
       "      <th>accommodates</th>\n",
       "      <th>bedrooms</th>\n",
       "      <th>bathrooms</th>\n",
       "      <th>beds</th>\n",
       "      <th>price</th>\n",
       "      <th>minimum_nights</th>\n",
       "      <th>maximum_nights</th>\n",
       "      <th>number_of_reviews</th>\n",
       "    </tr>\n",
       "  </thead>\n",
       "  <tbody>\n",
       "    <tr>\n",
       "      <th>0</th>\n",
       "      <td>0.401420</td>\n",
       "      <td>-0.249501</td>\n",
       "      <td>-0.439211</td>\n",
       "      <td>0.297386</td>\n",
       "      <td>0.081119</td>\n",
       "      <td>-0.341421</td>\n",
       "      <td>-0.016575</td>\n",
       "      <td>-0.516779</td>\n",
       "    </tr>\n",
       "    <tr>\n",
       "      <th>1</th>\n",
       "      <td>1.399466</td>\n",
       "      <td>2.129508</td>\n",
       "      <td>2.969551</td>\n",
       "      <td>1.141704</td>\n",
       "      <td>1.462622</td>\n",
       "      <td>-0.065047</td>\n",
       "      <td>-0.016606</td>\n",
       "      <td>1.706767</td>\n",
       "    </tr>\n",
       "    <tr>\n",
       "      <th>2</th>\n",
       "      <td>-1.095648</td>\n",
       "      <td>-0.249501</td>\n",
       "      <td>1.265170</td>\n",
       "      <td>-0.546933</td>\n",
       "      <td>-0.718699</td>\n",
       "      <td>-0.065047</td>\n",
       "      <td>-0.016575</td>\n",
       "      <td>-0.482571</td>\n",
       "    </tr>\n",
       "    <tr>\n",
       "      <th>3</th>\n",
       "      <td>-0.596625</td>\n",
       "      <td>-0.249501</td>\n",
       "      <td>-0.439211</td>\n",
       "      <td>-0.546933</td>\n",
       "      <td>-0.391501</td>\n",
       "      <td>-0.341421</td>\n",
       "      <td>-0.016575</td>\n",
       "      <td>-0.516779</td>\n",
       "    </tr>\n",
       "    <tr>\n",
       "      <th>4</th>\n",
       "      <td>0.401420</td>\n",
       "      <td>-0.249501</td>\n",
       "      <td>-0.439211</td>\n",
       "      <td>-0.546933</td>\n",
       "      <td>-0.718699</td>\n",
       "      <td>1.316824</td>\n",
       "      <td>-0.016575</td>\n",
       "      <td>-0.516779</td>\n",
       "    </tr>\n",
       "  </tbody>\n",
       "</table>\n",
       "</div>"
      ],
      "text/plain": [
       "<div>\n",
       "<style scoped>\n",
       "    .dataframe tbody tr th:only-of-type {\n",
       "        vertical-align: middle;\n",
       "    }\n",
       "\n",
       "    .dataframe tbody tr th {\n",
       "        vertical-align: top;\n",
       "    }\n",
       "\n",
       "    .dataframe thead th {\n",
       "        text-align: right;\n",
       "    }\n",
       "</style>\n",
       "<table border=\"1\" class=\"dataframe\">\n",
       "  <thead>\n",
       "    <tr style=\"text-align: right;\">\n",
       "      <th></th>\n",
       "      <th>accommodates</th>\n",
       "      <th>bedrooms</th>\n",
       "      <th>bathrooms</th>\n",
       "      <th>beds</th>\n",
       "      <th>price</th>\n",
       "      <th>minimum_nights</th>\n",
       "      <th>maximum_nights</th>\n",
       "      <th>number_of_reviews</th>\n",
       "    </tr>\n",
       "  </thead>\n",
       "  <tbody>\n",
       "    <tr>\n",
       "      <th>0</th>\n",
       "      <td>0.401420</td>\n",
       "      <td>-0.249501</td>\n",
       "      <td>-0.439211</td>\n",
       "      <td>0.297386</td>\n",
       "      <td>0.081119</td>\n",
       "      <td>-0.341421</td>\n",
       "      <td>-0.016575</td>\n",
       "      <td>-0.516779</td>\n",
       "    </tr>\n",
       "    <tr>\n",
       "      <th>1</th>\n",
       "      <td>1.399466</td>\n",
       "      <td>2.129508</td>\n",
       "      <td>2.969551</td>\n",
       "      <td>1.141704</td>\n",
       "      <td>1.462622</td>\n",
       "      <td>-0.065047</td>\n",
       "      <td>-0.016606</td>\n",
       "      <td>1.706767</td>\n",
       "    </tr>\n",
       "    <tr>\n",
       "      <th>2</th>\n",
       "      <td>-1.095648</td>\n",
       "      <td>-0.249501</td>\n",
       "      <td>1.265170</td>\n",
       "      <td>-0.546933</td>\n",
       "      <td>-0.718699</td>\n",
       "      <td>-0.065047</td>\n",
       "      <td>-0.016575</td>\n",
       "      <td>-0.482571</td>\n",
       "    </tr>\n",
       "    <tr>\n",
       "      <th>3</th>\n",
       "      <td>-0.596625</td>\n",
       "      <td>-0.249501</td>\n",
       "      <td>-0.439211</td>\n",
       "      <td>-0.546933</td>\n",
       "      <td>-0.391501</td>\n",
       "      <td>-0.341421</td>\n",
       "      <td>-0.016575</td>\n",
       "      <td>-0.516779</td>\n",
       "    </tr>\n",
       "    <tr>\n",
       "      <th>4</th>\n",
       "      <td>0.401420</td>\n",
       "      <td>-0.249501</td>\n",
       "      <td>-0.439211</td>\n",
       "      <td>-0.546933</td>\n",
       "      <td>-0.718699</td>\n",
       "      <td>1.316824</td>\n",
       "      <td>-0.016575</td>\n",
       "      <td>-0.516779</td>\n",
       "    </tr>\n",
       "  </tbody>\n",
       "</table>\n",
       "</div>"
      ]
     },
     "execution_count": 4,
     "metadata": {},
     "output_type": "execute_result"
    }
   ],
   "source": [
    "# 0-1标准化处理\n",
    "from sklearn import preprocessing\n",
    "\n",
    "features = ['accommodates', 'bedrooms', 'bathrooms', 'beds', 'price', 'minimum_nights', 'maximum_nights',\n",
    "            'number_of_reviews']\n",
    "\n",
    "dc_listings = pandas.read_csv(\"E:\\\\Workspace\\\\jupyter_notebook\\\\notebook_idata_lesson01\\\\KNN\\\\listings.csv\")\n",
    "dc_listings = dc_listings[features]\n",
    "dc_listings['price'] = dc_listings.price.str.replace(\"\\$|,\", '').astype(float)\n",
    "dc_listings = dc_listings.dropna()\n",
    "\n",
    "# 0-1标准化处理\n",
    "dc_listings[features] = preprocessing.StandardScaler().fit_transform(dc_listings[features])\n",
    "normalized_listings = dc_listings\n",
    "normalized_listings.head()\n"
   ]
  },
  {
   "cell_type": "code",
   "execution_count": 5,
   "metadata": {},
   "outputs": [],
   "source": [
    "# 分出训练集和测试集\n",
    "norm_train_df = normalized_listings.copy().iloc[:2792]\n",
    "norm_test_df = normalized_listings.copy().iloc[2792:]\n"
   ]
  },
  {
   "cell_type": "code",
   "execution_count": 6,
   "metadata": {},
   "outputs": [
    {
     "name": "stdout",
     "output_type": "stream",
     "text": [
      "3.723019604017032\n"
     ]
    }
   ],
   "source": [
    "# 使用scipy中的工具计算距离\n",
    "from scipy.spatial import distance\n",
    "\n",
    "listing1 = normalized_listings.iloc[0][[\"accommodates\", \"bathrooms\"]]\n",
    "listing2 = normalized_listings.iloc[20][[\"accommodates\", \"bathrooms\"]]\n",
    "# 计算距离，欧式距离\n",
    "dis = distance.euclidean(listing1, listing2)\n",
    "print(dis)\n"
   ]
  },
  {
   "cell_type": "code",
   "execution_count": 7,
   "metadata": {},
   "outputs": [
    {
     "name": "stdout",
     "output_type": "stream",
     "text": [
      "0.7894063922577531\n"
     ]
    }
   ],
   "source": [
    "# 多变量KNN模型\n",
    "def predict_price_multivariate(new_listing_value, feature_columns):\n",
    "    temp_df = norm_train_df\n",
    "    # 计算距离，使用训练集\n",
    "    temp_df[\"distance\"] = distance.cdist(temp_df[feature_columns], [new_listing_value[feature_columns]])\n",
    "    # 按照距离排列\n",
    "    temp_df = temp_df.sort_values(\"distance\")\n",
    "    # 选择最近的5个\n",
    "    knn_5 = temp_df.price.iloc[:5]\n",
    "    # 计算平均价格\n",
    "    predicted_price = knn_5.mean()\n",
    "    return predicted_price\n",
    "\n",
    "\n",
    "cols = [\"accommodates\", \"bathrooms\"]\n",
    "norm_test_df[\"predicted_price\"] = norm_test_df[cols].apply(predict_price_multivariate, feature_columns=cols, axis=1)\n",
    "norm_test_df[\"squared_error\"] = (norm_test_df[\"predicted_price\"] - norm_test_df[\"price\"]) ** 2\n",
    "mse = norm_test_df[\"squared_error\"].mean()\n",
    "rmse = mse ** (1 / 2)\n",
    "print(rmse)\n"
   ]
  },
  {
   "cell_type": "code",
   "execution_count": 9,
   "metadata": {},
   "outputs": [
    {
     "name": "stdout",
     "output_type": "stream",
     "text": [
      "0.8426824704818202\n"
     ]
    }
   ],
   "source": [
    "# 使用sklearn来完成KNN\n",
    "from sklearn.neighbors import KNeighborsRegressor\n",
    "from sklearn.metrics import mean_squared_error\n",
    "\n",
    "# 只计算两个特征值的时候\n",
    "cols = [\"accommodates\", \"bedrooms\"]\n",
    "knn = KNeighborsRegressor()\n",
    "# 第一个参数就是候选特征，第二个就是标签纸，也就是要计算的值\n",
    "knn.fit(norm_train_df[cols], norm_train_df[\"price\"])\n",
    "# 预测\n",
    "two_features_predictions = knn.predict(norm_test_df[cols])\n",
    "\n",
    "# 计算误差，也使用sklearn来计算\n",
    "\n",
    "two_features_mse = mean_squared_error(norm_test_df[\"price\"], two_features_predictions)\n",
    "two_features_rmse = two_features_mse ** (1 / 2)\n",
    "print(two_features_rmse)\n"
   ]
  },
  {
   "cell_type": "code",
   "execution_count": 11,
   "metadata": {
    "collapsed": false
   },
   "outputs": [
    {
     "name": "stdout",
     "output_type": "stream",
     "text": [
      "0.8243838530880285\n"
     ]
    }
   ],
   "source": [
    "# 计算更多的特征值的时候\n",
    "knn = KNeighborsRegressor()\n",
    "cols = ['accommodates', 'bedrooms', 'bathrooms', 'beds', 'minimum_nights', 'maximum_nights', 'number_of_reviews']\n",
    "\n",
    "# 第一个参数是特征值，第二个参数是标签值，也就是要计算的值\n",
    "knn.fit(norm_train_df[cols], norm_train_df[\"price\"])\n",
    "# 预测\n",
    "multi_features_predictions = knn.predict(norm_test_df[cols])\n",
    "# 计算误差\n",
    "multi_features_mse = mean_squared_error(norm_test_df[\"price\"], multi_features_predictions)\n",
    "multi_features_rmse = multi_features_mse ** (1 / 2)\n",
    "print(multi_features_rmse)\n"
   ]
  },
  {
   "cell_type": "code",
   "execution_count": 14,
   "metadata": {},
   "outputs": [
    {
     "name": "stdout",
     "output_type": "stream",
     "text": [
      "0.8219515227259299\n"
     ]
    }
   ],
   "source": [
    "# 还可以指定KNN的K值\n",
    "\n",
    "# 和计算两个特征值的时候做对比\n",
    "cols = [\"accommodates\", \"bedrooms\"]\n",
    "# k取10，也就是取10个最近的值做计算，默认是5\n",
    "knn = KNeighborsRegressor(n_neighbors=10)\n",
    "# 第一个参数就是候选特征，第二个就是标签纸，也就是要计算的值\n",
    "knn.fit(norm_train_df[cols], norm_train_df[\"price\"])\n",
    "# 预测\n",
    "two_features_predictions = knn.predict(norm_test_df[cols])\n",
    "\n",
    "# 计算误差，也使用sklearn来计算\n",
    "\n",
    "two_features_mse = mean_squared_error(norm_test_df[\"price\"], two_features_predictions)\n",
    "two_features_rmse = two_features_mse ** (1 / 2)\n",
    "print(two_features_rmse)\n"
   ]
  },
  {
   "cell_type": "code",
   "execution_count": null,
   "metadata": {},
   "outputs": [],
   "source": []
  }
 ],
 "metadata": {
  "kernelspec": {
   "display_name": "Python 2",
   "language": "python",
   "name": "python2"
  },
  "language_info": {
   "codemirror_mode": {
    "name": "ipython",
    "version": 2
   },
   "file_extension": ".py",
   "mimetype": "text/x-python",
   "name": "python",
   "nbconvert_exporter": "python",
   "pygments_lexer": "ipython2",
   "version": "2.7.6"
  }
 },
 "nbformat": 4,
 "nbformat_minor": 0
}
