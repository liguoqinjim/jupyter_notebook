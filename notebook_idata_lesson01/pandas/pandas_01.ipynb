{
 "cells": [
  {
   "cell_type": "code",
   "execution_count": 5,
   "metadata": {
    "collapsed": true
   },
   "outputs": [
    {
     "name": "stdout",
     "output_type": "stream",
     "text": [
      "<class 'pandas.core.frame.DataFrame'>\nNDB_No               int64\nShrt_Desc           object\nWater_(g)          float64\nEnerg_Kcal           int64\nProtein_(g)        float64\nLipid_Tot_(g)      float64\nAsh_(g)            float64\nCarbohydrt_(g)     float64\nFiber_TD_(g)       float64\nSugar_Tot_(g)      float64\nCalcium_(mg)       float64\nIron_(mg)          float64\nMagnesium_(mg)     float64\nPhosphorus_(mg)    float64\nPotassium_(mg)     float64\nSodium_(mg)        float64\nZinc_(mg)          float64\nCopper_(mg)        float64\nManganese_(mg)     float64\nSelenium_(mcg)     float64\nVit_C_(mg)         float64\nThiamin_(mg)       float64\nRiboflavin_(mg)    float64\nNiacin_(mg)        float64\nVit_B6_(mg)        float64\nVit_B12_(mcg)      float64\nVit_A_IU           float64\nVit_A_RAE          float64\nVit_E_(mg)         float64\nVit_D_mcg          float64\nVit_D_IU           float64\nVit_K_(mcg)        float64\nFA_Sat_(g)         float64\nFA_Mono_(g)        float64\nFA_Poly_(g)        float64\nCholestrl_(mg)     float64\ndtype: object\n"
     ]
    }
   ],
   "source": [
    "import pandas\n",
    "food_info = pandas.read_csv(\"E:\\Workspace\\jupyter_notebook\\\\notebook_idata_lesson01\\pandas\\\\food_info.csv\")\n",
    "print(type(food_info))\n",
    "print(food_info.dtypes)"
   ]
  },
  {
   "cell_type": "code",
   "execution_count": 14,
   "metadata": {},
   "outputs": [
    {
     "name": "stdout",
     "output_type": "stream",
     "text": [
      "   NDB_No                 Shrt_Desc  Water_(g)  Energ_Kcal  Protein_(g)  \\\n0    1001          BUTTER WITH SALT      15.87         717         0.85   \n1    1002  BUTTER WHIPPED WITH SALT      15.87         717         0.85   \n\n   Lipid_Tot_(g)  Ash_(g)  Carbohydrt_(g)  Fiber_TD_(g)  Sugar_Tot_(g)  \\\n0          81.11     2.11            0.06           0.0           0.06   \n1          81.11     2.11            0.06           0.0           0.06   \n\n        ...        Vit_A_IU  Vit_A_RAE  Vit_E_(mg)  Vit_D_mcg  Vit_D_IU  \\\n0       ...          2499.0      684.0        2.32        1.5      60.0   \n1       ...          2499.0      684.0        2.32        1.5      60.0   \n\n   Vit_K_(mcg)  FA_Sat_(g)  FA_Mono_(g)  FA_Poly_(g)  Cholestrl_(mg)  \n0          7.0      51.368       21.021        3.043           215.0  \n1          7.0      50.489       23.426        3.012           219.0  \n\n[2 rows x 36 columns]\n      NDB_No         Shrt_Desc  Water_(g)  Energ_Kcal  Protein_(g)  \\\n8616   90560         SNAIL RAW       79.2          90         16.1   \n8617   93600  TURTLE GREEN RAW       78.5          89         19.8   \n\n      Lipid_Tot_(g)  Ash_(g)  Carbohydrt_(g)  Fiber_TD_(g)  Sugar_Tot_(g)  \\\n8616            1.4      1.3             2.0           0.0            0.0   \n8617            0.5      1.2             0.0           0.0            0.0   \n\n           ...        Vit_A_IU  Vit_A_RAE  Vit_E_(mg)  Vit_D_mcg  Vit_D_IU  \\\n8616       ...           100.0       30.0         5.0        0.0       0.0   \n8617       ...           100.0       30.0         0.5        0.0       0.0   \n\n      Vit_K_(mcg)  FA_Sat_(g)  FA_Mono_(g)  FA_Poly_(g)  Cholestrl_(mg)  \n8616          0.1       0.361        0.259        0.252            50.0  \n8617          0.1       0.127        0.088        0.170            50.0  \n\n[2 rows x 36 columns]\n"
     ]
    }
   ],
   "source": [
    "# 查看前5行\n",
    "head_rows = food_info.head()\n",
    "# 查看前2行\n",
    "head_rows = food_info.head(2)\n",
    "print(head_rows)\n",
    "# 查看最后5行\n",
    "tail_rows = food_info.tail()\n",
    "tail_rows = food_info.tail(2)\n",
    "print(tail_rows)\n"
   ]
  },
  {
   "cell_type": "code",
   "execution_count": 16,
   "metadata": {},
   "outputs": [
    {
     "name": "stdout",
     "output_type": "stream",
     "text": [
      "Index(['NDB_No', 'Shrt_Desc', 'Water_(g)', 'Energ_Kcal', 'Protein_(g)',\n       'Lipid_Tot_(g)', 'Ash_(g)', 'Carbohydrt_(g)', 'Fiber_TD_(g)',\n       'Sugar_Tot_(g)', 'Calcium_(mg)', 'Iron_(mg)', 'Magnesium_(mg)',\n       'Phosphorus_(mg)', 'Potassium_(mg)', 'Sodium_(mg)', 'Zinc_(mg)',\n       'Copper_(mg)', 'Manganese_(mg)', 'Selenium_(mcg)', 'Vit_C_(mg)',\n       'Thiamin_(mg)', 'Riboflavin_(mg)', 'Niacin_(mg)', 'Vit_B6_(mg)',\n       'Vit_B12_(mcg)', 'Vit_A_IU', 'Vit_A_RAE', 'Vit_E_(mg)', 'Vit_D_mcg',\n       'Vit_D_IU', 'Vit_K_(mcg)', 'FA_Sat_(g)', 'FA_Mono_(g)', 'FA_Poly_(g)',\n       'Cholestrl_(mg)'],\n      dtype='object')\n(8618, 36)\n"
     ]
    }
   ],
   "source": [
    "# 查看有多少列\n",
    "print(food_info.columns)\n",
    "# 查看dataFrame的shape\n",
    "print(food_info.shape)"
   ]
  },
  {
   "cell_type": "code",
   "execution_count": null,
   "metadata": {},
   "outputs": [],
   "source": []
  }
 ],
 "metadata": {
  "kernelspec": {
   "display_name": "Python 2",
   "language": "python",
   "name": "python2"
  },
  "language_info": {
   "codemirror_mode": {
    "name": "ipython",
    "version": 2
   },
   "file_extension": ".py",
   "mimetype": "text/x-python",
   "name": "python",
   "nbconvert_exporter": "python",
   "pygments_lexer": "ipython2",
   "version": "2.7.6"
  }
 },
 "nbformat": 4,
 "nbformat_minor": 0
}
