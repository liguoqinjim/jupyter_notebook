{
 "cells": [
  {
   "cell_type": "code",
   "execution_count": 4,
   "metadata": {
    "collapsed": true
   },
   "outputs": [
    {
     "data": {
      "text/html": [
       "<div>\n",
       "<style>\n",
       "    .dataframe thead tr:only-child th {\n",
       "        text-align: right;\n",
       "    }\n",
       "\n",
       "    .dataframe thead th {\n",
       "        text-align: left;\n",
       "    }\n",
       "\n",
       "    .dataframe tbody tr th {\n",
       "        vertical-align: top;\n",
       "    }\n",
       "</style>\n",
       "<table border=\"1\" class=\"dataframe\">\n",
       "  <thead>\n",
       "    <tr style=\"text-align: right;\">\n",
       "      <th></th>\n",
       "      <th>PassengerId</th>\n",
       "      <th>Survived</th>\n",
       "      <th>Pclass</th>\n",
       "      <th>Name</th>\n",
       "      <th>Sex</th>\n",
       "      <th>Age</th>\n",
       "      <th>SibSp</th>\n",
       "      <th>Parch</th>\n",
       "      <th>Ticket</th>\n",
       "      <th>Fare</th>\n",
       "      <th>Cabin</th>\n",
       "      <th>Embarked</th>\n",
       "    </tr>\n",
       "  </thead>\n",
       "  <tbody>\n",
       "    <tr>\n",
       "      <th>0</th>\n",
       "      <td>1</td>\n",
       "      <td>0</td>\n",
       "      <td>3</td>\n",
       "      <td>Braund, Mr. Owen Harris</td>\n",
       "      <td>male</td>\n",
       "      <td>22.0</td>\n",
       "      <td>1</td>\n",
       "      <td>0</td>\n",
       "      <td>A/5 21171</td>\n",
       "      <td>7.2500</td>\n",
       "      <td>NaN</td>\n",
       "      <td>S</td>\n",
       "    </tr>\n",
       "    <tr>\n",
       "      <th>1</th>\n",
       "      <td>2</td>\n",
       "      <td>1</td>\n",
       "      <td>1</td>\n",
       "      <td>Cumings, Mrs. John Bradley (Florence Briggs Th...</td>\n",
       "      <td>female</td>\n",
       "      <td>38.0</td>\n",
       "      <td>1</td>\n",
       "      <td>0</td>\n",
       "      <td>PC 17599</td>\n",
       "      <td>71.2833</td>\n",
       "      <td>C85</td>\n",
       "      <td>C</td>\n",
       "    </tr>\n",
       "    <tr>\n",
       "      <th>2</th>\n",
       "      <td>3</td>\n",
       "      <td>1</td>\n",
       "      <td>3</td>\n",
       "      <td>Heikkinen, Miss. Laina</td>\n",
       "      <td>female</td>\n",
       "      <td>26.0</td>\n",
       "      <td>0</td>\n",
       "      <td>0</td>\n",
       "      <td>STON/O2. 3101282</td>\n",
       "      <td>7.9250</td>\n",
       "      <td>NaN</td>\n",
       "      <td>S</td>\n",
       "    </tr>\n",
       "    <tr>\n",
       "      <th>3</th>\n",
       "      <td>4</td>\n",
       "      <td>1</td>\n",
       "      <td>1</td>\n",
       "      <td>Futrelle, Mrs. Jacques Heath (Lily May Peel)</td>\n",
       "      <td>female</td>\n",
       "      <td>35.0</td>\n",
       "      <td>1</td>\n",
       "      <td>0</td>\n",
       "      <td>113803</td>\n",
       "      <td>53.1000</td>\n",
       "      <td>C123</td>\n",
       "      <td>S</td>\n",
       "    </tr>\n",
       "    <tr>\n",
       "      <th>4</th>\n",
       "      <td>5</td>\n",
       "      <td>0</td>\n",
       "      <td>3</td>\n",
       "      <td>Allen, Mr. William Henry</td>\n",
       "      <td>male</td>\n",
       "      <td>35.0</td>\n",
       "      <td>0</td>\n",
       "      <td>0</td>\n",
       "      <td>373450</td>\n",
       "      <td>8.0500</td>\n",
       "      <td>NaN</td>\n",
       "      <td>S</td>\n",
       "    </tr>\n",
       "  </tbody>\n",
       "</table>\n",
       "</div>"
      ],
      "text/plain": [
       "<div>\n",
       "<style>\n",
       "    .dataframe thead tr:only-child th {\n",
       "        text-align: right;\n",
       "    }\n",
       "\n",
       "    .dataframe thead th {\n",
       "        text-align: left;\n",
       "    }\n",
       "\n",
       "    .dataframe tbody tr th {\n",
       "        vertical-align: top;\n",
       "    }\n",
       "</style>\n",
       "<table border=\"1\" class=\"dataframe\">\n",
       "  <thead>\n",
       "    <tr style=\"text-align: right;\">\n",
       "      <th></th>\n",
       "      <th>PassengerId</th>\n",
       "      <th>Survived</th>\n",
       "      <th>Pclass</th>\n",
       "      <th>Name</th>\n",
       "      <th>Sex</th>\n",
       "      <th>Age</th>\n",
       "      <th>SibSp</th>\n",
       "      <th>Parch</th>\n",
       "      <th>Ticket</th>\n",
       "      <th>Fare</th>\n",
       "      <th>Cabin</th>\n",
       "      <th>Embarked</th>\n",
       "    </tr>\n",
       "  </thead>\n",
       "  <tbody>\n",
       "    <tr>\n",
       "      <th>0</th>\n",
       "      <td>1</td>\n",
       "      <td>0</td>\n",
       "      <td>3</td>\n",
       "      <td>Braund, Mr. Owen Harris</td>\n",
       "      <td>male</td>\n",
       "      <td>22.0</td>\n",
       "      <td>1</td>\n",
       "      <td>0</td>\n",
       "      <td>A/5 21171</td>\n",
       "      <td>7.2500</td>\n",
       "      <td>NaN</td>\n",
       "      <td>S</td>\n",
       "    </tr>\n",
       "    <tr>\n",
       "      <th>1</th>\n",
       "      <td>2</td>\n",
       "      <td>1</td>\n",
       "      <td>1</td>\n",
       "      <td>Cumings, Mrs. John Bradley (Florence Briggs Th...</td>\n",
       "      <td>female</td>\n",
       "      <td>38.0</td>\n",
       "      <td>1</td>\n",
       "      <td>0</td>\n",
       "      <td>PC 17599</td>\n",
       "      <td>71.2833</td>\n",
       "      <td>C85</td>\n",
       "      <td>C</td>\n",
       "    </tr>\n",
       "    <tr>\n",
       "      <th>2</th>\n",
       "      <td>3</td>\n",
       "      <td>1</td>\n",
       "      <td>3</td>\n",
       "      <td>Heikkinen, Miss. Laina</td>\n",
       "      <td>female</td>\n",
       "      <td>26.0</td>\n",
       "      <td>0</td>\n",
       "      <td>0</td>\n",
       "      <td>STON/O2. 3101282</td>\n",
       "      <td>7.9250</td>\n",
       "      <td>NaN</td>\n",
       "      <td>S</td>\n",
       "    </tr>\n",
       "    <tr>\n",
       "      <th>3</th>\n",
       "      <td>4</td>\n",
       "      <td>1</td>\n",
       "      <td>1</td>\n",
       "      <td>Futrelle, Mrs. Jacques Heath (Lily May Peel)</td>\n",
       "      <td>female</td>\n",
       "      <td>35.0</td>\n",
       "      <td>1</td>\n",
       "      <td>0</td>\n",
       "      <td>113803</td>\n",
       "      <td>53.1000</td>\n",
       "      <td>C123</td>\n",
       "      <td>S</td>\n",
       "    </tr>\n",
       "    <tr>\n",
       "      <th>4</th>\n",
       "      <td>5</td>\n",
       "      <td>0</td>\n",
       "      <td>3</td>\n",
       "      <td>Allen, Mr. William Henry</td>\n",
       "      <td>male</td>\n",
       "      <td>35.0</td>\n",
       "      <td>0</td>\n",
       "      <td>0</td>\n",
       "      <td>373450</td>\n",
       "      <td>8.0500</td>\n",
       "      <td>NaN</td>\n",
       "      <td>S</td>\n",
       "    </tr>\n",
       "  </tbody>\n",
       "</table>\n",
       "</div>"
      ]
     },
     "execution_count": 4,
     "metadata": {},
     "output_type": "execute_result"
    }
   ],
   "source": [
    "import pandas\n",
    "import numpy\n",
    "titanic_survival = pandas.read_csv(\"E:\\Workspace\\jupyter_notebook\\\\notebook_idata_lesson01\\pandas\\\\titanic_train.csv\")\n",
    "titanic_survival.head()"
   ]
  },
  {
   "cell_type": "code",
   "execution_count": 8,
   "metadata": {},
   "outputs": [
    {
     "name": "stdout",
     "output_type": "stream",
     "text": [
      "     PassengerId  Survived  Pclass                                  Name  \\\n630          631         1       1  Barkworth, Mr. Algernon Henry Wilson   \n851          852         0       3                   Svensson, Mr. Johan   \n493          494         0       1               Artagaveytia, Mr. Ramon   \n\n      Sex   Age  SibSp  Parch    Ticket     Fare Cabin Embarked  \n630  male  80.0      0      0     27042  30.0000   A23        S  \n851  male  74.0      0      0    347060   7.7750   NaN        S  \n493  male  71.0      0      0  PC 17609  49.5042   NaN        C  \n   PassengerId  Survived  Pclass                                  Name   Sex  \\\n0          631         1       1  Barkworth, Mr. Algernon Henry Wilson  male   \n1          852         0       3                   Svensson, Mr. Johan  male   \n2          494         0       1               Artagaveytia, Mr. Ramon  male   \n\n    Age  SibSp  Parch    Ticket     Fare Cabin Embarked  \n0  80.0      0      0     27042  30.0000   A23        S  \n1  74.0      0      0    347060   7.7750   NaN        S  \n2  71.0      0      0  PC 17609  49.5042   NaN        C  \n"
     ]
    }
   ],
   "source": [
    "# 按照Age排列，从大到小，\n",
    "new_titanic_survival = titanic_survival.sort_values(\"Age\", ascending=False)\n",
    "print(new_titanic_survival[:3])\n",
    "# 可以看到重新排列后，index是不变的\n",
    "# 重置dataFrame的index，drop为True表示，去除掉原先的index\n",
    "titanic_survival_reindexed = new_titanic_survival.reset_index(drop=True)\n",
    "print(titanic_survival_reindexed[:3])\n"
   ]
  },
  {
   "cell_type": "code",
   "execution_count": 11,
   "metadata": {},
   "outputs": [
    {
     "name": "stdout",
     "output_type": "stream",
     "text": [
      "PassengerId                  100\nSurvived                       0\nPclass                         2\nName           Kantor, Mr. Sinai\nSex                         male\nAge                           34\nSibSp                          1\nParch                          0\nTicket                    244367\nFare                          26\nCabin                        NaN\nEmbarked                       S\ndtype: object\n"
     ]
    }
   ],
   "source": [
    "# 自定义函数，找出每列的第100个值\n",
    "def hundredth_row(column):\n",
    "    hundredth_item = column.iloc[99]\n",
    "    return hundredth_item\n",
    "\n",
    "\n",
    "hundredthRow = titanic_survival.apply(hundredth_row)\n",
    "print(hundredthRow)\n"
   ]
  },
  {
   "cell_type": "code",
   "execution_count": 13,
   "metadata": {},
   "outputs": [
    {
     "name": "stdout",
     "output_type": "stream",
     "text": [
      "PassengerId      0\nSurvived         0\nPclass           0\nName             0\nSex              0\nAge            177\nSibSp            0\nParch            0\nTicket           0\nFare             0\nCabin          687\nEmbarked         2\ndtype: int64\n"
     ]
    }
   ],
   "source": [
    "# 统计每列有一共有多少个Nan值\n",
    "def not_null_count(column):\n",
    "    column_null = pandas.isnull(column)\n",
    "    null = column[column_null]\n",
    "    return len(null)\n",
    "\n",
    "\n",
    "column_null_count = titanic_survival.apply(not_null_count)\n",
    "print(column_null_count)\n"
   ]
  },
  {
   "cell_type": "code",
   "execution_count": 14,
   "metadata": {},
   "outputs": [
    {
     "name": "stdout",
     "output_type": "stream",
     "text": [
      "0       Third Class\n1       First Class\n2       Third Class\n3       First Class\n4       Third Class\n5       Third Class\n6       First Class\n7       Third Class\n8       Third Class\n9      Second Class\n10      Third Class\n11      First Class\n12      Third Class\n13      Third Class\n14      Third Class\n15     Second Class\n16      Third Class\n17     Second Class\n18      Third Class\n19      Third Class\n20     Second Class\n21     Second Class\n22      Third Class\n23      First Class\n24      Third Class\n25      Third Class\n26      Third Class\n27      First Class\n28      Third Class\n29      Third Class\n           ...     \n861    Second Class\n862     First Class\n863     Third Class\n864    Second Class\n865    Second Class\n866    Second Class\n867     First Class\n868     Third Class\n869     Third Class\n870     Third Class\n871     First Class\n872     First Class\n873     Third Class\n874    Second Class\n875     Third Class\n876     Third Class\n877     Third Class\n878     Third Class\n879     First Class\n880    Second Class\n881     Third Class\n882     Third Class\n883    Second Class\n884     Third Class\n885     Third Class\n886    Second Class\n887     First Class\n888     Third Class\n889     First Class\n890     Third Class\nLength: 891, dtype: object\n"
     ]
    }
   ],
   "source": [
    "# apply设置参数axis=1的时候，对每行自定义操作\n",
    "def which_class(row):\n",
    "    pclass = row[\"Pclass\"]\n",
    "    if pandas.isnull(pclass):\n",
    "        return \"Unknown\"\n",
    "    elif pclass == 1:\n",
    "        return \"First Class\"\n",
    "    elif pclass == 2:\n",
    "        return \"Second Class\"\n",
    "    elif pclass == 3:\n",
    "        return \"Third Class\"\n",
    "\n",
    "\n",
    "classes = titanic_survival.apply(which_class, axis=1)\n",
    "print(classes)\n"
   ]
  },
  {
   "cell_type": "code",
   "execution_count": 15,
   "metadata": {},
   "outputs": [
    {
     "name": "stdout",
     "output_type": "stream",
     "text": [
      "0      False\n1      False\n2      False\n3      False\n4      False\n5      False\n6      False\n7       True\n8      False\n9       True\n10      True\n11     False\n12     False\n13     False\n14      True\n15     False\n16      True\n17     False\n18     False\n19     False\n20     False\n21     False\n22      True\n23     False\n24      True\n25     False\n26     False\n27     False\n28     False\n29     False\n       ...  \n861    False\n862    False\n863    False\n864    False\n865    False\n866    False\n867    False\n868    False\n869     True\n870    False\n871    False\n872    False\n873    False\n874    False\n875     True\n876    False\n877    False\n878    False\n879    False\n880    False\n881    False\n882    False\n883    False\n884    False\n885    False\n886    False\n887    False\n888    False\n889    False\n890    False\nLength: 891, dtype: bool\n"
     ]
    }
   ],
   "source": [
    "# 判断是否小于18岁\n",
    "def is_minor(row):\n",
    "    if row[\"Age\"] < 18:\n",
    "        return True\n",
    "    else:\n",
    "        return False\n",
    "\n",
    "\n",
    "minors = titanic_survival.apply(is_minor, axis=1)\n",
    "print(minors)\n"
   ]
  },
  {
   "cell_type": "code",
   "execution_count": 16,
   "metadata": {},
   "outputs": [
    {
     "name": "stdout",
     "output_type": "stream",
     "text": [
      "0      adult\n1      adult\n2      adult\n3      adult\n4      adult\n5      known\n6      adult\n7      minor\n8      adult\n9      minor\n10     minor\n11     adult\n12     adult\n13     adult\n14     minor\n15     adult\n16     minor\n17     known\n18     adult\n19     known\n20     adult\n21     adult\n22     minor\n23     adult\n24     minor\n25     adult\n26     known\n27     adult\n28     known\n29     known\n       ...  \n861    adult\n862    adult\n863    known\n864    adult\n865    adult\n866    adult\n867    adult\n868    known\n869    minor\n870    adult\n871    adult\n872    adult\n873    adult\n874    adult\n875    minor\n876    adult\n877    adult\n878    known\n879    adult\n880    adult\n881    adult\n882    adult\n883    adult\n884    adult\n885    adult\n886    adult\n887    adult\n888    known\n889    adult\n890    adult\nLength: 891, dtype: object\n"
     ]
    }
   ],
   "source": [
    "# 按照年份分为minor,adult,unknown\n",
    "def generate_age_labels(row):\n",
    "    age = row[\"Age\"]\n",
    "    if pandas.isnull(age):\n",
    "        return \"known\"\n",
    "    elif age < 18:\n",
    "        return \"minor\"\n",
    "    else:\n",
    "        return \"adult\"\n",
    "\n",
    "\n",
    "age_labels = titanic_survival.apply(generate_age_labels, axis=1)\n",
    "print(age_labels)\n"
   ]
  },
  {
   "cell_type": "code",
   "execution_count": 19,
   "metadata": {},
   "outputs": [
    {
     "name": "stdout",
     "output_type": "stream",
     "text": [
      "            Survived\nage_labels          \nadult       0.381032\nknown       0.293785\nminor       0.539823\n"
     ]
    }
   ],
   "source": [
    "# 把上面计算出来的age_labels加入dataframe\n",
    "titanic_survival[\"age_labels\"] = age_labels\n",
    "#titanic_survival.head(3)\n",
    "# 数据透视表\n",
    "age_group_survival = titanic_survival.pivot_table(index=\"age_labels\", values=\"Survived\")\n",
    "print(age_group_survival)\n"
   ]
  },
  {
   "cell_type": "code",
   "execution_count": null,
   "metadata": {},
   "outputs": [],
   "source": []
  }
 ],
 "metadata": {
  "kernelspec": {
   "display_name": "Python 2",
   "language": "python",
   "name": "python2"
  },
  "language_info": {
   "codemirror_mode": {
    "name": "ipython",
    "version": 2
   },
   "file_extension": ".py",
   "mimetype": "text/x-python",
   "name": "python",
   "nbconvert_exporter": "python",
   "pygments_lexer": "ipython2",
   "version": "2.7.6"
  }
 },
 "nbformat": 4,
 "nbformat_minor": 0
}
